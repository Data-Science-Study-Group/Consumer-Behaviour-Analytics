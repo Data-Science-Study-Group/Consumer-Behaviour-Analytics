{
 "cells": [
  {
   "cell_type": "code",
   "execution_count": 1,
   "metadata": {},
   "outputs": [
    {
     "name": "stdout",
     "output_type": "stream",
     "text": [
      "TensorFlow Version : 2.0.0\n"
     ]
    },
    {
     "name": "stderr",
     "output_type": "stream",
     "text": [
      "C:\\Users\\juyee\\Anaconda3\\lib\\site-packages\\ipykernel_launcher.py:11: UserWarning: No GPU found. Please ensure you have installed TensorFlow correctly.\n",
      "  # This is added back by InteractiveShellApp.init_path()\n"
     ]
    }
   ],
   "source": [
    "from distutils.version import LooseVersion\n",
    "import warnings\n",
    "import tensorflow as tf\n",
    "\n",
    "#check tensorflow version\n",
    "assert LooseVersion(tf.__version__) >= LooseVersion('1.0'), 'Please use Tensorflow version 1.0 or newer. You are using ()'\n",
    "print('TensorFlow Version : {}'.format(tf.__version__))\n",
    "\n",
    "#check for a GPU\n",
    "if not tf.test.gpu_device_name():\n",
    "    warnings.warn('No GPU found. Please ensure you have installed TensorFlow correctly.')\n",
    "else:\n",
    "    print('Default GPU Device: {}'.format(tf.test.gpu_device_name()))"
   ]
  },
  {
   "cell_type": "code",
   "execution_count": 2,
   "metadata": {},
   "outputs": [
    {
     "name": "stderr",
     "output_type": "stream",
     "text": [
      "Using TensorFlow backend.\n"
     ]
    }
   ],
   "source": [
    "import numpy as np # linear algebra\n",
    "import pandas as pd # data processing, CSV file I/O (e.g. pd.read_csv)\n",
    "import seaborn as sns\n",
    "import matplotlib.pyplot as plt\n",
    "\n",
    "from sklearn.feature_extraction.text import CountVectorizer\n",
    "from sklearn.linear_model import LinearRegression\n",
    "\n",
    "from collections import Counter\n",
    "import nltk\n",
    "import seaborn as sns\n",
    "import string\n",
    "from nltk.corpus import stopwords\n",
    "# import re\n",
    "# from autocorrect import spell\n",
    "\n",
    "from keras.preprocessing.text import Tokenizer\n",
    "from keras.preprocessing.sequence import pad_sequences\n",
    "\n",
    "from keras.models import Sequential\n",
    "from keras.layers import Dense\n",
    "from keras.backend import eval\n",
    "from keras.optimizers import Adam\n",
    "from keras.layers import LSTM\n",
    "from keras.layers.embeddings import Embedding\n",
    "from keras.layers import Dropout\n",
    "from keras.layers.convolutional import Conv1D,MaxPooling1D\n",
    "# Input data files are available in the \"../input/\" directory.\n",
    "# For example, running this (by clicking run or pressing Shift+Enter) will list the files in the input directory\n",
    "\n",
    "import os"
   ]
  },
  {
   "cell_type": "code",
   "execution_count": 3,
   "metadata": {},
   "outputs": [],
   "source": [
    "import regex as re"
   ]
  },
  {
   "cell_type": "code",
   "execution_count": 4,
   "metadata": {},
   "outputs": [
    {
     "data": {
      "text/html": [
       "<div>\n",
       "<style scoped>\n",
       "    .dataframe tbody tr th:only-of-type {\n",
       "        vertical-align: middle;\n",
       "    }\n",
       "\n",
       "    .dataframe tbody tr th {\n",
       "        vertical-align: top;\n",
       "    }\n",
       "\n",
       "    .dataframe thead th {\n",
       "        text-align: right;\n",
       "    }\n",
       "</style>\n",
       "<table border=\"1\" class=\"dataframe\">\n",
       "  <thead>\n",
       "    <tr style=\"text-align: right;\">\n",
       "      <th></th>\n",
       "      <th>reviewerID</th>\n",
       "      <th>asin</th>\n",
       "      <th>reviewerName</th>\n",
       "      <th>helpful</th>\n",
       "      <th>reviewText</th>\n",
       "      <th>overall</th>\n",
       "      <th>summary</th>\n",
       "      <th>unixReviewTime</th>\n",
       "      <th>reviewTime</th>\n",
       "    </tr>\n",
       "  </thead>\n",
       "  <tbody>\n",
       "    <tr>\n",
       "      <td>0</td>\n",
       "      <td>APYOBQE6M18AA</td>\n",
       "      <td>0615391206</td>\n",
       "      <td>Martin Schwartz</td>\n",
       "      <td>[0, 0]</td>\n",
       "      <td>My daughter wanted this book and the price on ...</td>\n",
       "      <td>5</td>\n",
       "      <td>Best Price</td>\n",
       "      <td>1382140800</td>\n",
       "      <td>10 19, 2013</td>\n",
       "    </tr>\n",
       "    <tr>\n",
       "      <td>1</td>\n",
       "      <td>A1JVQTAGHYOL7F</td>\n",
       "      <td>0615391206</td>\n",
       "      <td>Michelle Dinh</td>\n",
       "      <td>[0, 0]</td>\n",
       "      <td>I bought this zoku quick pop for my daughterr ...</td>\n",
       "      <td>5</td>\n",
       "      <td>zoku</td>\n",
       "      <td>1403049600</td>\n",
       "      <td>06 18, 2014</td>\n",
       "    </tr>\n",
       "    <tr>\n",
       "      <td>2</td>\n",
       "      <td>A3UPYGJKZ0XTU4</td>\n",
       "      <td>0615391206</td>\n",
       "      <td>mirasreviews</td>\n",
       "      <td>[26, 27]</td>\n",
       "      <td>There is no shortage of pop recipes available ...</td>\n",
       "      <td>4</td>\n",
       "      <td>Excels at Sweet Dessert Pops, but Falls Short ...</td>\n",
       "      <td>1367712000</td>\n",
       "      <td>05 5, 2013</td>\n",
       "    </tr>\n",
       "    <tr>\n",
       "      <td>3</td>\n",
       "      <td>A2MHCTX43MIMDZ</td>\n",
       "      <td>0615391206</td>\n",
       "      <td>M. Johnson \"Tea Lover\"</td>\n",
       "      <td>[14, 18]</td>\n",
       "      <td>This book is a must have if you get a Zoku (wh...</td>\n",
       "      <td>5</td>\n",
       "      <td>Creative Combos</td>\n",
       "      <td>1312416000</td>\n",
       "      <td>08 4, 2011</td>\n",
       "    </tr>\n",
       "    <tr>\n",
       "      <td>4</td>\n",
       "      <td>AHAI85T5C2DH3</td>\n",
       "      <td>0615391206</td>\n",
       "      <td>PugLover</td>\n",
       "      <td>[0, 0]</td>\n",
       "      <td>This cookbook is great.  I have really enjoyed...</td>\n",
       "      <td>4</td>\n",
       "      <td>A must own if you own the Zoku maker...</td>\n",
       "      <td>1402099200</td>\n",
       "      <td>06 7, 2014</td>\n",
       "    </tr>\n",
       "  </tbody>\n",
       "</table>\n",
       "</div>"
      ],
      "text/plain": [
       "       reviewerID        asin            reviewerName   helpful  \\\n",
       "0   APYOBQE6M18AA  0615391206         Martin Schwartz    [0, 0]   \n",
       "1  A1JVQTAGHYOL7F  0615391206           Michelle Dinh    [0, 0]   \n",
       "2  A3UPYGJKZ0XTU4  0615391206            mirasreviews  [26, 27]   \n",
       "3  A2MHCTX43MIMDZ  0615391206  M. Johnson \"Tea Lover\"  [14, 18]   \n",
       "4   AHAI85T5C2DH3  0615391206                PugLover    [0, 0]   \n",
       "\n",
       "                                          reviewText  overall  \\\n",
       "0  My daughter wanted this book and the price on ...        5   \n",
       "1  I bought this zoku quick pop for my daughterr ...        5   \n",
       "2  There is no shortage of pop recipes available ...        4   \n",
       "3  This book is a must have if you get a Zoku (wh...        5   \n",
       "4  This cookbook is great.  I have really enjoyed...        4   \n",
       "\n",
       "                                             summary  unixReviewTime  \\\n",
       "0                                         Best Price      1382140800   \n",
       "1                                               zoku      1403049600   \n",
       "2  Excels at Sweet Dessert Pops, but Falls Short ...      1367712000   \n",
       "3                                    Creative Combos      1312416000   \n",
       "4            A must own if you own the Zoku maker...      1402099200   \n",
       "\n",
       "    reviewTime  \n",
       "0  10 19, 2013  \n",
       "1  06 18, 2014  \n",
       "2   05 5, 2013  \n",
       "3   08 4, 2011  \n",
       "4   06 7, 2014  "
      ]
     },
     "execution_count": 4,
     "metadata": {},
     "output_type": "execute_result"
    }
   ],
   "source": [
    "data= pd.read_json('Home_and_Kitchen_5.json',lines=True)\n",
    "data.head()"
   ]
  },
  {
   "cell_type": "code",
   "execution_count": 5,
   "metadata": {},
   "outputs": [
    {
     "data": {
      "text/html": [
       "<div>\n",
       "<style scoped>\n",
       "    .dataframe tbody tr th:only-of-type {\n",
       "        vertical-align: middle;\n",
       "    }\n",
       "\n",
       "    .dataframe tbody tr th {\n",
       "        vertical-align: top;\n",
       "    }\n",
       "\n",
       "    .dataframe thead th {\n",
       "        text-align: right;\n",
       "    }\n",
       "</style>\n",
       "<table border=\"1\" class=\"dataframe\">\n",
       "  <thead>\n",
       "    <tr style=\"text-align: right;\">\n",
       "      <th></th>\n",
       "      <th>overall</th>\n",
       "      <th>No of Users</th>\n",
       "    </tr>\n",
       "  </thead>\n",
       "  <tbody>\n",
       "    <tr>\n",
       "      <td>0</td>\n",
       "      <td>5</td>\n",
       "      <td>349696</td>\n",
       "    </tr>\n",
       "    <tr>\n",
       "      <td>1</td>\n",
       "      <td>4</td>\n",
       "      <td>105508</td>\n",
       "    </tr>\n",
       "    <tr>\n",
       "      <td>2</td>\n",
       "      <td>3</td>\n",
       "      <td>45059</td>\n",
       "    </tr>\n",
       "    <tr>\n",
       "      <td>3</td>\n",
       "      <td>1</td>\n",
       "      <td>27106</td>\n",
       "    </tr>\n",
       "    <tr>\n",
       "      <td>4</td>\n",
       "      <td>2</td>\n",
       "      <td>24313</td>\n",
       "    </tr>\n",
       "  </tbody>\n",
       "</table>\n",
       "</div>"
      ],
      "text/plain": [
       "   overall  No of Users\n",
       "0        5       349696\n",
       "1        4       105508\n",
       "2        3        45059\n",
       "3        1        27106\n",
       "4        2        24313"
      ]
     },
     "execution_count": 5,
     "metadata": {},
     "output_type": "execute_result"
    }
   ],
   "source": [
    "review=pd.DataFrame(data.groupby('overall').size().sort_values(ascending=False).rename('No of Users').reset_index())\n",
    "review.head()"
   ]
  },
  {
   "cell_type": "code",
   "execution_count": 5,
   "metadata": {},
   "outputs": [
    {
     "data": {
      "image/png": "[encoded data removed]",
      "text/plain": [
       "<Figure size 1080x720 with 1 Axes>"
      ]
     },
     "metadata": {},
     "output_type": "display_data"
    }
   ],
   "source": [
    "import seaborn as sns \n",
    "import matplotlib.pyplot as plt \n",
    "sns.set(style=\"whitegrid\")\n",
    "\n",
    "f, ax = plt.subplots(figsize=(15, 10)) \n",
    "sns.set_color_codes(\"pastel\") \n",
    "sns.barplot(y=\"overall\", x=\"No of Users\", data=review.iloc[:20, :10],label=\"Score\", color=\"pink\")\n",
    "\n",
    "ax.legend(ncol=2, loc=\"upper left\", frameon=True) \n",
    "ax.set(xlabel=\"No of People\",ylabel=\"Rating\") \n",
    "sns.despine(left=True, bottom=True) \n",
    "plt.show()"
   ]
  },
  {
   "cell_type": "code",
   "execution_count": 7,
   "metadata": {},
   "outputs": [
    {
     "data": {
      "text/html": [
       "<div>\n",
       "<style scoped>\n",
       "    .dataframe tbody tr th:only-of-type {\n",
       "        vertical-align: middle;\n",
       "    }\n",
       "\n",
       "    .dataframe tbody tr th {\n",
       "        vertical-align: top;\n",
       "    }\n",
       "\n",
       "    .dataframe thead th {\n",
       "        text-align: right;\n",
       "    }\n",
       "</style>\n",
       "<table border=\"1\" class=\"dataframe\">\n",
       "  <thead>\n",
       "    <tr style=\"text-align: right;\">\n",
       "      <th></th>\n",
       "      <th>overall</th>\n",
       "      <th>reviewText</th>\n",
       "      <th>summary</th>\n",
       "      <th>reviewerName</th>\n",
       "    </tr>\n",
       "  </thead>\n",
       "  <tbody>\n",
       "    <tr>\n",
       "      <td>0</td>\n",
       "      <td>5</td>\n",
       "      <td>My daughter wanted this book and the price on ...</td>\n",
       "      <td>Best Price</td>\n",
       "      <td>Martin Schwartz</td>\n",
       "    </tr>\n",
       "    <tr>\n",
       "      <td>1</td>\n",
       "      <td>5</td>\n",
       "      <td>I bought this zoku quick pop for my daughterr ...</td>\n",
       "      <td>zoku</td>\n",
       "      <td>Michelle Dinh</td>\n",
       "    </tr>\n",
       "    <tr>\n",
       "      <td>2</td>\n",
       "      <td>4</td>\n",
       "      <td>There is no shortage of pop recipes available ...</td>\n",
       "      <td>Excels at Sweet Dessert Pops, but Falls Short ...</td>\n",
       "      <td>mirasreviews</td>\n",
       "    </tr>\n",
       "    <tr>\n",
       "      <td>3</td>\n",
       "      <td>5</td>\n",
       "      <td>This book is a must have if you get a Zoku (wh...</td>\n",
       "      <td>Creative Combos</td>\n",
       "      <td>M. Johnson \"Tea Lover\"</td>\n",
       "    </tr>\n",
       "    <tr>\n",
       "      <td>4</td>\n",
       "      <td>4</td>\n",
       "      <td>This cookbook is great.  I have really enjoyed...</td>\n",
       "      <td>A must own if you own the Zoku maker...</td>\n",
       "      <td>PugLover</td>\n",
       "    </tr>\n",
       "  </tbody>\n",
       "</table>\n",
       "</div>"
      ],
      "text/plain": [
       "   overall                                         reviewText  \\\n",
       "0        5  My daughter wanted this book and the price on ...   \n",
       "1        5  I bought this zoku quick pop for my daughterr ...   \n",
       "2        4  There is no shortage of pop recipes available ...   \n",
       "3        5  This book is a must have if you get a Zoku (wh...   \n",
       "4        4  This cookbook is great.  I have really enjoyed...   \n",
       "\n",
       "                                             summary            reviewerName  \n",
       "0                                         Best Price         Martin Schwartz  \n",
       "1                                               zoku           Michelle Dinh  \n",
       "2  Excels at Sweet Dessert Pops, but Falls Short ...            mirasreviews  \n",
       "3                                    Creative Combos  M. Johnson \"Tea Lover\"  \n",
       "4            A must own if you own the Zoku maker...                PugLover  "
      ]
     },
     "execution_count": 7,
     "metadata": {},
     "output_type": "execute_result"
    }
   ],
   "source": [
    "permanent = data[['overall' , 'reviewText' , 'summary' , 'reviewerName']]\n",
    "mpermanent=permanent.dropna()\n",
    "mpermanent.head()"
   ]
  },
  {
   "cell_type": "code",
   "execution_count": 8,
   "metadata": {},
   "outputs": [
    {
     "data": {
      "text/html": [
       "<div>\n",
       "<style scoped>\n",
       "    .dataframe tbody tr th:only-of-type {\n",
       "        vertical-align: middle;\n",
       "    }\n",
       "\n",
       "    .dataframe tbody tr th {\n",
       "        vertical-align: top;\n",
       "    }\n",
       "\n",
       "    .dataframe thead th {\n",
       "        text-align: right;\n",
       "    }\n",
       "</style>\n",
       "<table border=\"1\" class=\"dataframe\">\n",
       "  <thead>\n",
       "    <tr style=\"text-align: right;\">\n",
       "      <th></th>\n",
       "      <th>overall</th>\n",
       "      <th>reviewText</th>\n",
       "      <th>summary</th>\n",
       "      <th>reviewerName</th>\n",
       "    </tr>\n",
       "  </thead>\n",
       "  <tbody>\n",
       "  </tbody>\n",
       "</table>\n",
       "</div>"
      ],
      "text/plain": [
       "Empty DataFrame\n",
       "Columns: [overall, reviewText, summary, reviewerName]\n",
       "Index: []"
      ]
     },
     "execution_count": 8,
     "metadata": {},
     "output_type": "execute_result"
    }
   ],
   "source": [
    "check =  mpermanent[mpermanent[\"reviewText\"].isnull()]\n",
    "check.head()"
   ]
  },
  {
   "cell_type": "code",
   "execution_count": 12,
   "metadata": {},
   "outputs": [
    {
     "data": {
      "text/plain": [
       "(373457, 4)"
      ]
     },
     "execution_count": 12,
     "metadata": {},
     "output_type": "execute_result"
    }
   ],
   "source": [
    "actualrating = mpermanent[(mpermanent['overall'] == 1) | (mpermanent['overall'] == 5)]\n",
    "actualrating.shape"
   ]
  },
  {
   "cell_type": "code",
   "execution_count": 13,
   "metadata": {},
   "outputs": [],
   "source": [
    "y = actualrating['overall'].reset_index()\n",
    "x = actualrating['reviewText'].reset_index()"
   ]
  },
  {
   "cell_type": "code",
   "execution_count": 14,
   "metadata": {},
   "outputs": [
    {
     "data": {
      "text/plain": [
       "373457"
      ]
     },
     "execution_count": 14,
     "metadata": {},
     "output_type": "execute_result"
    }
   ],
   "source": [
    "len(y)"
   ]
  },
  {
   "cell_type": "code",
   "execution_count": 15,
   "metadata": {},
   "outputs": [
    {
     "data": {
      "text/html": [
       "<div>\n",
       "<style scoped>\n",
       "    .dataframe tbody tr th:only-of-type {\n",
       "        vertical-align: middle;\n",
       "    }\n",
       "\n",
       "    .dataframe tbody tr th {\n",
       "        vertical-align: top;\n",
       "    }\n",
       "\n",
       "    .dataframe thead th {\n",
       "        text-align: right;\n",
       "    }\n",
       "</style>\n",
       "<table border=\"1\" class=\"dataframe\">\n",
       "  <thead>\n",
       "    <tr style=\"text-align: right;\">\n",
       "      <th></th>\n",
       "      <th>index</th>\n",
       "      <th>overall</th>\n",
       "    </tr>\n",
       "  </thead>\n",
       "  <tbody>\n",
       "    <tr>\n",
       "      <td>0</td>\n",
       "      <td>0</td>\n",
       "      <td>5</td>\n",
       "    </tr>\n",
       "    <tr>\n",
       "      <td>1</td>\n",
       "      <td>1</td>\n",
       "      <td>5</td>\n",
       "    </tr>\n",
       "    <tr>\n",
       "      <td>2</td>\n",
       "      <td>3</td>\n",
       "      <td>5</td>\n",
       "    </tr>\n",
       "    <tr>\n",
       "      <td>3</td>\n",
       "      <td>5</td>\n",
       "      <td>5</td>\n",
       "    </tr>\n",
       "    <tr>\n",
       "      <td>4</td>\n",
       "      <td>6</td>\n",
       "      <td>5</td>\n",
       "    </tr>\n",
       "    <tr>\n",
       "      <td>...</td>\n",
       "      <td>...</td>\n",
       "      <td>...</td>\n",
       "    </tr>\n",
       "    <tr>\n",
       "      <td>373452</td>\n",
       "      <td>551677</td>\n",
       "      <td>5</td>\n",
       "    </tr>\n",
       "    <tr>\n",
       "      <td>373453</td>\n",
       "      <td>551678</td>\n",
       "      <td>5</td>\n",
       "    </tr>\n",
       "    <tr>\n",
       "      <td>373454</td>\n",
       "      <td>551679</td>\n",
       "      <td>5</td>\n",
       "    </tr>\n",
       "    <tr>\n",
       "      <td>373455</td>\n",
       "      <td>551680</td>\n",
       "      <td>5</td>\n",
       "    </tr>\n",
       "    <tr>\n",
       "      <td>373456</td>\n",
       "      <td>551681</td>\n",
       "      <td>5</td>\n",
       "    </tr>\n",
       "  </tbody>\n",
       "</table>\n",
       "<p>373457 rows × 2 columns</p>\n",
       "</div>"
      ],
      "text/plain": [
       "         index  overall\n",
       "0            0        5\n",
       "1            1        5\n",
       "2            3        5\n",
       "3            5        5\n",
       "4            6        5\n",
       "...        ...      ...\n",
       "373452  551677        5\n",
       "373453  551678        5\n",
       "373454  551679        5\n",
       "373455  551680        5\n",
       "373456  551681        5\n",
       "\n",
       "[373457 rows x 2 columns]"
      ]
     },
     "execution_count": 15,
     "metadata": {},
     "output_type": "execute_result"
    }
   ],
   "source": [
    "y"
   ]
  },
  {
   "cell_type": "code",
   "execution_count": 16,
   "metadata": {},
   "outputs": [
    {
     "data": {
      "text/html": [
       "<div>\n",
       "<style scoped>\n",
       "    .dataframe tbody tr th:only-of-type {\n",
       "        vertical-align: middle;\n",
       "    }\n",
       "\n",
       "    .dataframe tbody tr th {\n",
       "        vertical-align: top;\n",
       "    }\n",
       "\n",
       "    .dataframe thead th {\n",
       "        text-align: right;\n",
       "    }\n",
       "</style>\n",
       "<table border=\"1\" class=\"dataframe\">\n",
       "  <thead>\n",
       "    <tr style=\"text-align: right;\">\n",
       "      <th></th>\n",
       "      <th>index</th>\n",
       "      <th>reviewText</th>\n",
       "    </tr>\n",
       "  </thead>\n",
       "  <tbody>\n",
       "    <tr>\n",
       "      <td>0</td>\n",
       "      <td>0</td>\n",
       "      <td>My daughter wanted this book and the price on ...</td>\n",
       "    </tr>\n",
       "    <tr>\n",
       "      <td>1</td>\n",
       "      <td>1</td>\n",
       "      <td>I bought this zoku quick pop for my daughterr ...</td>\n",
       "    </tr>\n",
       "    <tr>\n",
       "      <td>2</td>\n",
       "      <td>3</td>\n",
       "      <td>This book is a must have if you get a Zoku (wh...</td>\n",
       "    </tr>\n",
       "    <tr>\n",
       "      <td>3</td>\n",
       "      <td>5</td>\n",
       "      <td>If you have a Zoku Quick Pop maker (or two.......</td>\n",
       "    </tr>\n",
       "    <tr>\n",
       "      <td>4</td>\n",
       "      <td>6</td>\n",
       "      <td>This book is so beautifully illustrated and ea...</td>\n",
       "    </tr>\n",
       "    <tr>\n",
       "      <td>...</td>\n",
       "      <td>...</td>\n",
       "      <td>...</td>\n",
       "    </tr>\n",
       "    <tr>\n",
       "      <td>373452</td>\n",
       "      <td>551677</td>\n",
       "      <td>These ice pop molds are awesome! Bright kid-ha...</td>\n",
       "    </tr>\n",
       "    <tr>\n",
       "      <td>373453</td>\n",
       "      <td>551678</td>\n",
       "      <td>great popsicle molds - very nice quality - and...</td>\n",
       "    </tr>\n",
       "    <tr>\n",
       "      <td>373454</td>\n",
       "      <td>551679</td>\n",
       "      <td>My kids and I are loving these - putting our c...</td>\n",
       "    </tr>\n",
       "    <tr>\n",
       "      <td>373455</td>\n",
       "      <td>551680</td>\n",
       "      <td>I love these ice pop makers. First off, I love...</td>\n",
       "    </tr>\n",
       "    <tr>\n",
       "      <td>373456</td>\n",
       "      <td>551681</td>\n",
       "      <td>My kids love these ice pop makers!!!  Since we...</td>\n",
       "    </tr>\n",
       "  </tbody>\n",
       "</table>\n",
       "<p>373457 rows × 2 columns</p>\n",
       "</div>"
      ],
      "text/plain": [
       "         index                                         reviewText\n",
       "0            0  My daughter wanted this book and the price on ...\n",
       "1            1  I bought this zoku quick pop for my daughterr ...\n",
       "2            3  This book is a must have if you get a Zoku (wh...\n",
       "3            5  If you have a Zoku Quick Pop maker (or two.......\n",
       "4            6  This book is so beautifully illustrated and ea...\n",
       "...        ...                                                ...\n",
       "373452  551677  These ice pop molds are awesome! Bright kid-ha...\n",
       "373453  551678  great popsicle molds - very nice quality - and...\n",
       "373454  551679  My kids and I are loving these - putting our c...\n",
       "373455  551680  I love these ice pop makers. First off, I love...\n",
       "373456  551681  My kids love these ice pop makers!!!  Since we...\n",
       "\n",
       "[373457 rows x 2 columns]"
      ]
     },
     "execution_count": 16,
     "metadata": {},
     "output_type": "execute_result"
    }
   ],
   "source": [
    "x"
   ]
  },
  {
   "cell_type": "code",
   "execution_count": 28,
   "metadata": {},
   "outputs": [],
   "source": [
    "prodreviews = pd.merge(x,y)\n",
    "#del prodreviews['index']\n",
    "prodreviews = prodreviews[prodreviews['index']<60000]"
   ]
  },
  {
   "cell_type": "code",
   "execution_count": 30,
   "metadata": {},
   "outputs": [
    {
     "data": {
      "text/html": [
       "<div>\n",
       "<style scoped>\n",
       "    .dataframe tbody tr th:only-of-type {\n",
       "        vertical-align: middle;\n",
       "    }\n",
       "\n",
       "    .dataframe tbody tr th {\n",
       "        vertical-align: top;\n",
       "    }\n",
       "\n",
       "    .dataframe thead th {\n",
       "        text-align: right;\n",
       "    }\n",
       "</style>\n",
       "<table border=\"1\" class=\"dataframe\">\n",
       "  <thead>\n",
       "    <tr style=\"text-align: right;\">\n",
       "      <th></th>\n",
       "      <th>reviewText</th>\n",
       "      <th>overall</th>\n",
       "    </tr>\n",
       "  </thead>\n",
       "  <tbody>\n",
       "    <tr>\n",
       "      <td>0</td>\n",
       "      <td>My daughter wanted this book and the price on ...</td>\n",
       "      <td>5</td>\n",
       "    </tr>\n",
       "    <tr>\n",
       "      <td>1</td>\n",
       "      <td>I bought this zoku quick pop for my daughterr ...</td>\n",
       "      <td>5</td>\n",
       "    </tr>\n",
       "    <tr>\n",
       "      <td>2</td>\n",
       "      <td>This book is a must have if you get a Zoku (wh...</td>\n",
       "      <td>5</td>\n",
       "    </tr>\n",
       "    <tr>\n",
       "      <td>3</td>\n",
       "      <td>If you have a Zoku Quick Pop maker (or two.......</td>\n",
       "      <td>5</td>\n",
       "    </tr>\n",
       "    <tr>\n",
       "      <td>4</td>\n",
       "      <td>This book is so beautifully illustrated and ea...</td>\n",
       "      <td>5</td>\n",
       "    </tr>\n",
       "    <tr>\n",
       "      <td>...</td>\n",
       "      <td>...</td>\n",
       "      <td>...</td>\n",
       "    </tr>\n",
       "    <tr>\n",
       "      <td>42733</td>\n",
       "      <td>The search is over. This pepper mill is outsta...</td>\n",
       "      <td>5</td>\n",
       "    </tr>\n",
       "    <tr>\n",
       "      <td>42734</td>\n",
       "      <td>I waffled on getting this grinder for some tim...</td>\n",
       "      <td>5</td>\n",
       "    </tr>\n",
       "    <tr>\n",
       "      <td>42735</td>\n",
       "      <td>I like pepper. I really like pepper.This is th...</td>\n",
       "      <td>5</td>\n",
       "    </tr>\n",
       "    <tr>\n",
       "      <td>42736</td>\n",
       "      <td>America's Test Kitchen was right again.  Best ...</td>\n",
       "      <td>5</td>\n",
       "    </tr>\n",
       "    <tr>\n",
       "      <td>42737</td>\n",
       "      <td>. . . but it is! I've never had a peppermill i...</td>\n",
       "      <td>5</td>\n",
       "    </tr>\n",
       "  </tbody>\n",
       "</table>\n",
       "<p>42738 rows × 2 columns</p>\n",
       "</div>"
      ],
      "text/plain": [
       "                                              reviewText  overall\n",
       "0      My daughter wanted this book and the price on ...        5\n",
       "1      I bought this zoku quick pop for my daughterr ...        5\n",
       "2      This book is a must have if you get a Zoku (wh...        5\n",
       "3      If you have a Zoku Quick Pop maker (or two.......        5\n",
       "4      This book is so beautifully illustrated and ea...        5\n",
       "...                                                  ...      ...\n",
       "42733  The search is over. This pepper mill is outsta...        5\n",
       "42734  I waffled on getting this grinder for some tim...        5\n",
       "42735  I like pepper. I really like pepper.This is th...        5\n",
       "42736  America's Test Kitchen was right again.  Best ...        5\n",
       "42737  . . . but it is! I've never had a peppermill i...        5\n",
       "\n",
       "[42738 rows x 2 columns]"
      ]
     },
     "execution_count": 30,
     "metadata": {},
     "output_type": "execute_result"
    }
   ],
   "source": [
    "del prodreviews['index']\n",
    "prodreviews"
   ]
  },
  {
   "cell_type": "code",
   "execution_count": 32,
   "metadata": {},
   "outputs": [],
   "source": [
    "prodreviews.to_csv('prodreviews.csv')"
   ]
  },
  {
   "cell_type": "code",
   "execution_count": null,
   "metadata": {},
   "outputs": [],
   "source": [
    "import csv\n",
    "\n",
    "with open('prodreviews.csv','r') as csvin, open('D:/NAD.txt', 'w') as tsvout:\n",
    "    csvin = csv.reader(csvin)\n",
    "    tsvout = csv.writer(tsvout, delimiter='\\t')\n",
    "\n",
    "    for row in csvin:\n",
    "        tsvout.writerow(row)"
   ]
  },
  {
   "cell_type": "code",
   "execution_count": 8,
   "metadata": {},
   "outputs": [],
   "source": [
    "y = actualrating['overall'].reset_index()\n",
    "y = y[y['index']<=150000]"
   ]
  },
  {
   "cell_type": "code",
   "execution_count": 9,
   "metadata": {},
   "outputs": [],
   "source": [
    "del y['index']"
   ]
  },
  {
   "cell_type": "code",
   "execution_count": 13,
   "metadata": {},
   "outputs": [
    {
     "name": "stdout",
     "output_type": "stream",
     "text": [
      "0         My daughter wanted this book and the price on ...\n",
      "1         I bought this zoku quick pop for my daughterr ...\n",
      "2         This book is a must have if you get a Zoku (wh...\n",
      "3         If you have a Zoku Quick Pop maker (or two.......\n",
      "4         This book is so beautifully illustrated and ea...\n",
      "                                ...                        \n",
      "373452    These ice pop molds are awesome! Bright kid-ha...\n",
      "373453    great popsicle molds - very nice quality - and...\n",
      "373454    My kids and I are loving these - putting our c...\n",
      "373455    I love these ice pop makers. First off, I love...\n",
      "373456    My kids love these ice pop makers!!!  Since we...\n",
      "Name: reviewText, Length: 373457, dtype: object\n"
     ]
    }
   ],
   "source": [
    "#X = x['reviewText'][x['index']<=150000]\n",
    "X = x['reviewText']\n",
    "print(X)"
   ]
  },
  {
   "cell_type": "code",
   "execution_count": 11,
   "metadata": {},
   "outputs": [
    {
     "name": "stderr",
     "output_type": "stream",
     "text": [
      "[nltk_data] Downloading package stopwords to\n",
      "[nltk_data]     C:\\Users\\juyee\\AppData\\Roaming\\nltk_data...\n",
      "[nltk_data]   Package stopwords is already up-to-date!\n"
     ]
    }
   ],
   "source": [
    "import string\n",
    "import nltk\n",
    "nltk.download('stopwords')\n",
    "#from nltk.corpus import stopwords\n",
    "# stop=set(stopwords.words('english'))\n",
    "\n",
    "\n",
    "def text_process(text):\n",
    "    '''\n",
    "    Takes in a string of text, then performs the following:\n",
    "    1. Remove all punctuation\n",
    "    2. Remove all stopwords\n",
    "    3. Return the cleaned text as a list of words\n",
    "    '''\n",
    "    nopunc = [char for char in text if char not in string.punctuation]\n",
    "    nopunc = ''.join(nopunc)\n",
    "    \n",
    "    return [word for word in nopunc.split() if word.lower() not in stopwords.words('english')]"
   ]
  },
  {
   "cell_type": "code",
   "execution_count": 67,
   "metadata": {},
   "outputs": [
    {
     "name": "stdout",
     "output_type": "stream",
     "text": [
      "['My', 'daughter', 'wanted', 'this', 'book', 'and', 'the', 'price', 'on', 'Amazon', 'was', 'the', 'best.', 'She', 'has', 'already', 'tried', 'one', 'recipe', 'a', 'day', 'after', 'receiving', 'the', 'book.', 'She', 'seems', 'happy', 'with', 'it.']\n"
     ]
    }
   ],
   "source": [
    "tokens = X[0].split()\n",
    "print(tokens)"
   ]
  },
  {
   "cell_type": "code",
   "execution_count": 68,
   "metadata": {},
   "outputs": [
    {
     "name": "stdout",
     "output_type": "stream",
     "text": [
      "['daughter', 'wanted', 'book', 'price', 'Amazon', 'best', 'already', 'tried', 'one', 'recipe', 'day', 'receiving', 'book', 'seems', 'happy']\n"
     ]
    }
   ],
   "source": [
    "sample_text = X[0]\n",
    "print(text_process(sample_text))"
   ]
  },
  {
   "cell_type": "code",
   "execution_count": 12,
   "metadata": {},
   "outputs": [
    {
     "ename": "KeyboardInterrupt",
     "evalue": "",
     "output_type": "error",
     "traceback": [
      "\u001b[1;31m---------------------------------------------------------------------------\u001b[0m",
      "\u001b[1;31mKeyboardInterrupt\u001b[0m                         Traceback (most recent call last)",
      "\u001b[1;32m<ipython-input-12-50b57602b3b3>\u001b[0m in \u001b[0;36m<module>\u001b[1;34m\u001b[0m\n\u001b[1;32m----> 1\u001b[1;33m \u001b[0mX\u001b[0m \u001b[1;33m=\u001b[0m \u001b[0mtext_process\u001b[0m\u001b[1;33m(\u001b[0m\u001b[0mX\u001b[0m\u001b[1;33m)\u001b[0m\u001b[1;33m\u001b[0m\u001b[1;33m\u001b[0m\u001b[0m\n\u001b[0m",
      "\u001b[1;32m<ipython-input-11-fce32273c338>\u001b[0m in \u001b[0;36mtext_process\u001b[1;34m(text)\u001b[0m\n\u001b[0;32m     16\u001b[0m     \u001b[0mnopunc\u001b[0m \u001b[1;33m=\u001b[0m \u001b[1;34m''\u001b[0m\u001b[1;33m.\u001b[0m\u001b[0mjoin\u001b[0m\u001b[1;33m(\u001b[0m\u001b[0mnopunc\u001b[0m\u001b[1;33m)\u001b[0m\u001b[1;33m\u001b[0m\u001b[1;33m\u001b[0m\u001b[0m\n\u001b[0;32m     17\u001b[0m \u001b[1;33m\u001b[0m\u001b[0m\n\u001b[1;32m---> 18\u001b[1;33m     \u001b[1;32mreturn\u001b[0m \u001b[1;33m[\u001b[0m\u001b[0mword\u001b[0m \u001b[1;32mfor\u001b[0m \u001b[0mword\u001b[0m \u001b[1;32min\u001b[0m \u001b[0mnopunc\u001b[0m\u001b[1;33m.\u001b[0m\u001b[0msplit\u001b[0m\u001b[1;33m(\u001b[0m\u001b[1;33m)\u001b[0m \u001b[1;32mif\u001b[0m \u001b[0mword\u001b[0m\u001b[1;33m.\u001b[0m\u001b[0mlower\u001b[0m\u001b[1;33m(\u001b[0m\u001b[1;33m)\u001b[0m \u001b[1;32mnot\u001b[0m \u001b[1;32min\u001b[0m \u001b[0mstopwords\u001b[0m\u001b[1;33m.\u001b[0m\u001b[0mwords\u001b[0m\u001b[1;33m(\u001b[0m\u001b[1;34m'english'\u001b[0m\u001b[1;33m)\u001b[0m\u001b[1;33m]\u001b[0m\u001b[1;33m\u001b[0m\u001b[1;33m\u001b[0m\u001b[0m\n\u001b[0m",
      "\u001b[1;32m<ipython-input-11-fce32273c338>\u001b[0m in \u001b[0;36m<listcomp>\u001b[1;34m(.0)\u001b[0m\n\u001b[0;32m     16\u001b[0m     \u001b[0mnopunc\u001b[0m \u001b[1;33m=\u001b[0m \u001b[1;34m''\u001b[0m\u001b[1;33m.\u001b[0m\u001b[0mjoin\u001b[0m\u001b[1;33m(\u001b[0m\u001b[0mnopunc\u001b[0m\u001b[1;33m)\u001b[0m\u001b[1;33m\u001b[0m\u001b[1;33m\u001b[0m\u001b[0m\n\u001b[0;32m     17\u001b[0m \u001b[1;33m\u001b[0m\u001b[0m\n\u001b[1;32m---> 18\u001b[1;33m     \u001b[1;32mreturn\u001b[0m \u001b[1;33m[\u001b[0m\u001b[0mword\u001b[0m \u001b[1;32mfor\u001b[0m \u001b[0mword\u001b[0m \u001b[1;32min\u001b[0m \u001b[0mnopunc\u001b[0m\u001b[1;33m.\u001b[0m\u001b[0msplit\u001b[0m\u001b[1;33m(\u001b[0m\u001b[1;33m)\u001b[0m \u001b[1;32mif\u001b[0m \u001b[0mword\u001b[0m\u001b[1;33m.\u001b[0m\u001b[0mlower\u001b[0m\u001b[1;33m(\u001b[0m\u001b[1;33m)\u001b[0m \u001b[1;32mnot\u001b[0m \u001b[1;32min\u001b[0m \u001b[0mstopwords\u001b[0m\u001b[1;33m.\u001b[0m\u001b[0mwords\u001b[0m\u001b[1;33m(\u001b[0m\u001b[1;34m'english'\u001b[0m\u001b[1;33m)\u001b[0m\u001b[1;33m]\u001b[0m\u001b[1;33m\u001b[0m\u001b[1;33m\u001b[0m\u001b[0m\n\u001b[0m",
      "\u001b[1;32m~\\Anaconda3\\lib\\site-packages\\nltk\\corpus\\reader\\wordlist.py\u001b[0m in \u001b[0;36mwords\u001b[1;34m(self, fileids, ignore_lines_startswith)\u001b[0m\n\u001b[0;32m     23\u001b[0m         return [\n\u001b[0;32m     24\u001b[0m             \u001b[0mline\u001b[0m\u001b[1;33m\u001b[0m\u001b[1;33m\u001b[0m\u001b[0m\n\u001b[1;32m---> 25\u001b[1;33m             \u001b[1;32mfor\u001b[0m \u001b[0mline\u001b[0m \u001b[1;32min\u001b[0m \u001b[0mline_tokenize\u001b[0m\u001b[1;33m(\u001b[0m\u001b[0mself\u001b[0m\u001b[1;33m.\u001b[0m\u001b[0mraw\u001b[0m\u001b[1;33m(\u001b[0m\u001b[0mfileids\u001b[0m\u001b[1;33m)\u001b[0m\u001b[1;33m)\u001b[0m\u001b[1;33m\u001b[0m\u001b[1;33m\u001b[0m\u001b[0m\n\u001b[0m\u001b[0;32m     26\u001b[0m             \u001b[1;32mif\u001b[0m \u001b[1;32mnot\u001b[0m \u001b[0mline\u001b[0m\u001b[1;33m.\u001b[0m\u001b[0mstartswith\u001b[0m\u001b[1;33m(\u001b[0m\u001b[0mignore_lines_startswith\u001b[0m\u001b[1;33m)\u001b[0m\u001b[1;33m\u001b[0m\u001b[1;33m\u001b[0m\u001b[0m\n\u001b[0;32m     27\u001b[0m         ]\n",
      "\u001b[1;32m~\\Anaconda3\\lib\\site-packages\\nltk\\corpus\\reader\\wordlist.py\u001b[0m in \u001b[0;36mraw\u001b[1;34m(self, fileids)\u001b[0m\n\u001b[0;32m     32\u001b[0m         \u001b[1;32melif\u001b[0m \u001b[0misinstance\u001b[0m\u001b[1;33m(\u001b[0m\u001b[0mfileids\u001b[0m\u001b[1;33m,\u001b[0m \u001b[0mstring_types\u001b[0m\u001b[1;33m)\u001b[0m\u001b[1;33m:\u001b[0m\u001b[1;33m\u001b[0m\u001b[1;33m\u001b[0m\u001b[0m\n\u001b[0;32m     33\u001b[0m             \u001b[0mfileids\u001b[0m \u001b[1;33m=\u001b[0m \u001b[1;33m[\u001b[0m\u001b[0mfileids\u001b[0m\u001b[1;33m]\u001b[0m\u001b[1;33m\u001b[0m\u001b[1;33m\u001b[0m\u001b[0m\n\u001b[1;32m---> 34\u001b[1;33m         \u001b[1;32mreturn\u001b[0m \u001b[0mconcat\u001b[0m\u001b[1;33m(\u001b[0m\u001b[1;33m[\u001b[0m\u001b[0mself\u001b[0m\u001b[1;33m.\u001b[0m\u001b[0mopen\u001b[0m\u001b[1;33m(\u001b[0m\u001b[0mf\u001b[0m\u001b[1;33m)\u001b[0m\u001b[1;33m.\u001b[0m\u001b[0mread\u001b[0m\u001b[1;33m(\u001b[0m\u001b[1;33m)\u001b[0m \u001b[1;32mfor\u001b[0m \u001b[0mf\u001b[0m \u001b[1;32min\u001b[0m \u001b[0mfileids\u001b[0m\u001b[1;33m]\u001b[0m\u001b[1;33m)\u001b[0m\u001b[1;33m\u001b[0m\u001b[1;33m\u001b[0m\u001b[0m\n\u001b[0m\u001b[0;32m     35\u001b[0m \u001b[1;33m\u001b[0m\u001b[0m\n\u001b[0;32m     36\u001b[0m \u001b[1;33m\u001b[0m\u001b[0m\n",
      "\u001b[1;32m~\\Anaconda3\\lib\\site-packages\\nltk\\corpus\\reader\\wordlist.py\u001b[0m in \u001b[0;36m<listcomp>\u001b[1;34m(.0)\u001b[0m\n\u001b[0;32m     32\u001b[0m         \u001b[1;32melif\u001b[0m \u001b[0misinstance\u001b[0m\u001b[1;33m(\u001b[0m\u001b[0mfileids\u001b[0m\u001b[1;33m,\u001b[0m \u001b[0mstring_types\u001b[0m\u001b[1;33m)\u001b[0m\u001b[1;33m:\u001b[0m\u001b[1;33m\u001b[0m\u001b[1;33m\u001b[0m\u001b[0m\n\u001b[0;32m     33\u001b[0m             \u001b[0mfileids\u001b[0m \u001b[1;33m=\u001b[0m \u001b[1;33m[\u001b[0m\u001b[0mfileids\u001b[0m\u001b[1;33m]\u001b[0m\u001b[1;33m\u001b[0m\u001b[1;33m\u001b[0m\u001b[0m\n\u001b[1;32m---> 34\u001b[1;33m         \u001b[1;32mreturn\u001b[0m \u001b[0mconcat\u001b[0m\u001b[1;33m(\u001b[0m\u001b[1;33m[\u001b[0m\u001b[0mself\u001b[0m\u001b[1;33m.\u001b[0m\u001b[0mopen\u001b[0m\u001b[1;33m(\u001b[0m\u001b[0mf\u001b[0m\u001b[1;33m)\u001b[0m\u001b[1;33m.\u001b[0m\u001b[0mread\u001b[0m\u001b[1;33m(\u001b[0m\u001b[1;33m)\u001b[0m \u001b[1;32mfor\u001b[0m \u001b[0mf\u001b[0m \u001b[1;32min\u001b[0m \u001b[0mfileids\u001b[0m\u001b[1;33m]\u001b[0m\u001b[1;33m)\u001b[0m\u001b[1;33m\u001b[0m\u001b[1;33m\u001b[0m\u001b[0m\n\u001b[0m\u001b[0;32m     35\u001b[0m \u001b[1;33m\u001b[0m\u001b[0m\n\u001b[0;32m     36\u001b[0m \u001b[1;33m\u001b[0m\u001b[0m\n",
      "\u001b[1;32m~\\Anaconda3\\lib\\site-packages\\nltk\\data.py\u001b[0m in \u001b[0;36mread\u001b[1;34m(self, size)\u001b[0m\n\u001b[0;32m   1173\u001b[0m         \u001b[1;33m:\u001b[0m\u001b[0mrtype\u001b[0m\u001b[1;33m:\u001b[0m \u001b[0municode\u001b[0m\u001b[1;33m\u001b[0m\u001b[1;33m\u001b[0m\u001b[0m\n\u001b[0;32m   1174\u001b[0m         \"\"\"\n\u001b[1;32m-> 1175\u001b[1;33m         \u001b[0mchars\u001b[0m \u001b[1;33m=\u001b[0m \u001b[0mself\u001b[0m\u001b[1;33m.\u001b[0m\u001b[0m_read\u001b[0m\u001b[1;33m(\u001b[0m\u001b[0msize\u001b[0m\u001b[1;33m)\u001b[0m\u001b[1;33m\u001b[0m\u001b[1;33m\u001b[0m\u001b[0m\n\u001b[0m\u001b[0;32m   1176\u001b[0m \u001b[1;33m\u001b[0m\u001b[0m\n\u001b[0;32m   1177\u001b[0m         \u001b[1;31m# If linebuffer is not empty, then include it in the result\u001b[0m\u001b[1;33m\u001b[0m\u001b[1;33m\u001b[0m\u001b[1;33m\u001b[0m\u001b[0m\n",
      "\u001b[1;32m~\\Anaconda3\\lib\\site-packages\\nltk\\data.py\u001b[0m in \u001b[0;36m_read\u001b[1;34m(self, size)\u001b[0m\n\u001b[0;32m   1450\u001b[0m         \u001b[1;31m# Read the requested number of bytes.\u001b[0m\u001b[1;33m\u001b[0m\u001b[1;33m\u001b[0m\u001b[1;33m\u001b[0m\u001b[0m\n\u001b[0;32m   1451\u001b[0m         \u001b[1;32mif\u001b[0m \u001b[0msize\u001b[0m \u001b[1;32mis\u001b[0m \u001b[1;32mNone\u001b[0m\u001b[1;33m:\u001b[0m\u001b[1;33m\u001b[0m\u001b[1;33m\u001b[0m\u001b[0m\n\u001b[1;32m-> 1452\u001b[1;33m             \u001b[0mnew_bytes\u001b[0m \u001b[1;33m=\u001b[0m \u001b[0mself\u001b[0m\u001b[1;33m.\u001b[0m\u001b[0mstream\u001b[0m\u001b[1;33m.\u001b[0m\u001b[0mread\u001b[0m\u001b[1;33m(\u001b[0m\u001b[1;33m)\u001b[0m\u001b[1;33m\u001b[0m\u001b[1;33m\u001b[0m\u001b[0m\n\u001b[0m\u001b[0;32m   1453\u001b[0m         \u001b[1;32melse\u001b[0m\u001b[1;33m:\u001b[0m\u001b[1;33m\u001b[0m\u001b[1;33m\u001b[0m\u001b[0m\n\u001b[0;32m   1454\u001b[0m             \u001b[0mnew_bytes\u001b[0m \u001b[1;33m=\u001b[0m \u001b[0mself\u001b[0m\u001b[1;33m.\u001b[0m\u001b[0mstream\u001b[0m\u001b[1;33m.\u001b[0m\u001b[0mread\u001b[0m\u001b[1;33m(\u001b[0m\u001b[0msize\u001b[0m\u001b[1;33m)\u001b[0m\u001b[1;33m\u001b[0m\u001b[1;33m\u001b[0m\u001b[0m\n",
      "\u001b[1;31mKeyboardInterrupt\u001b[0m: "
     ]
    }
   ],
   "source": [
    "X = text_process(X)"
   ]
  },
  {
   "cell_type": "code",
   "execution_count": 69,
   "metadata": {},
   "outputs": [],
   "source": [
    "from sklearn.feature_extraction.text import CountVectorizer\n",
    "# next we need to vectorize our input variable (X)\n",
    "#we use the count vectoriser function and the analyser we use is the above lines of code\n",
    "# this should return a vector array\n",
    "\n",
    "#The CountVectorizer provides a simple way to both tokenize a collection of text documents and build a vocabulary \n",
    "#of known words, but also to encode new documents using that vocabulary.\n",
    "#bow_transformer = CountVectorizer(analyzer=text_process).fit(X)\n",
    "bow_transformer = CountVectorizer().fit(X)"
   ]
  },
  {
   "cell_type": "code",
   "execution_count": 70,
   "metadata": {},
   "outputs": [],
   "source": [
    "import pickle\n",
    "filename = \"transformer_model.sav\"\n",
    "pickle.dump(bow_transformer,open(filename,'wb'))"
   ]
  },
  {
   "cell_type": "code",
   "execution_count": 71,
   "metadata": {},
   "outputs": [
    {
     "data": {
      "text/plain": [
       "161499"
      ]
     },
     "execution_count": 71,
     "metadata": {},
     "output_type": "execute_result"
    }
   ],
   "source": [
    "len(bow_transformer.vocabulary_)"
   ]
  },
  {
   "cell_type": "code",
   "execution_count": 73,
   "metadata": {},
   "outputs": [],
   "source": [
    "review_24 = X[24]"
   ]
  },
  {
   "cell_type": "code",
   "execution_count": 74,
   "metadata": {},
   "outputs": [
    {
     "data": {
      "text/plain": [
       "<1x161499 sparse matrix of type '<class 'numpy.int64'>'\n",
       "\twith 10 stored elements in Compressed Sparse Row format>"
      ]
     },
     "execution_count": 74,
     "metadata": {},
     "output_type": "execute_result"
    }
   ],
   "source": [
    "bow_25 = bow_transformer.transform([review_24])\n",
    "bow_25"
   ]
  },
  {
   "cell_type": "code",
   "execution_count": 75,
   "metadata": {
    "scrolled": true
   },
   "outputs": [
    {
     "name": "stdout",
     "output_type": "stream",
     "text": [
      "  (0, 51411)\t1\n",
      "  (0, 54622)\t1\n",
      "  (0, 56445)\t1\n",
      "  (0, 66524)\t1\n",
      "  (0, 91304)\t1\n",
      "  (0, 96811)\t1\n",
      "  (0, 97776)\t1\n",
      "  (0, 109534)\t1\n",
      "  (0, 122736)\t1\n",
      "  (0, 122903)\t1\n"
     ]
    }
   ],
   "source": [
    "print(bow_25)"
   ]
  },
  {
   "cell_type": "code",
   "execution_count": 76,
   "metadata": {},
   "outputs": [],
   "source": [
    "X = bow_transformer.transform(X)"
   ]
  },
  {
   "cell_type": "code",
   "execution_count": 77,
   "metadata": {},
   "outputs": [],
   "source": [
    "filename=\"transformed_X.pkl\"\n",
    "pickle.dump(X,open(filename,'wb'))"
   ]
  },
  {
   "cell_type": "code",
   "execution_count": null,
   "metadata": {},
   "outputs": [],
   "source": [
    "X = pickle.load(open(filename,'rb'))"
   ]
  },
  {
   "cell_type": "code",
   "execution_count": 81,
   "metadata": {},
   "outputs": [],
   "source": [
    "from sklearn.model_selection import train_test_split\n",
    "X_train, X_test, y_train, y_test = train_test_split(X, y, test_size=0.3, random_state=101)"
   ]
  },
  {
   "cell_type": "code",
   "execution_count": 82,
   "metadata": {},
   "outputs": [
    {
     "name": "stderr",
     "output_type": "stream",
     "text": [
      "D:\\Anaconda3\\envs\\gputest\\lib\\site-packages\\sklearn\\utils\\validation.py:760: DataConversionWarning: A column-vector y was passed when a 1d array was expected. Please change the shape of y to (n_samples, ), for example using ravel().\n",
      "  y = column_or_1d(y, warn=True)\n"
     ]
    },
    {
     "data": {
      "text/plain": [
       "MultinomialNB(alpha=1.0, class_prior=None, fit_prior=True)"
      ]
     },
     "execution_count": 82,
     "metadata": {},
     "output_type": "execute_result"
    }
   ],
   "source": [
    "#Naive Byes classifier\n",
    "from sklearn.naive_bayes import MultinomialNB\n",
    "nb = MultinomialNB()\n",
    "nb.fit(X_train, y_train)"
   ]
  },
  {
   "cell_type": "code",
   "execution_count": 83,
   "metadata": {},
   "outputs": [],
   "source": [
    "preds = nb.predict(X_test)"
   ]
  },
  {
   "cell_type": "code",
   "execution_count": 84,
   "metadata": {},
   "outputs": [
    {
     "name": "stdout",
     "output_type": "stream",
     "text": [
      "[[  754  1683]\n",
      " [  377 28533]]\n",
      "\n",
      "\n",
      "              precision    recall  f1-score   support\n",
      "\n",
      "           1       0.67      0.31      0.42      2437\n",
      "           5       0.94      0.99      0.97     28910\n",
      "\n",
      "    accuracy                           0.93     31347\n",
      "   macro avg       0.81      0.65      0.69     31347\n",
      "weighted avg       0.92      0.93      0.92     31347\n",
      "\n"
     ]
    },
    {
     "data": {
      "text/plain": [
       "0.9494674669474029"
      ]
     },
     "execution_count": 84,
     "metadata": {},
     "output_type": "execute_result"
    }
   ],
   "source": [
    "from sklearn.metrics import confusion_matrix, classification_report\n",
    "print(confusion_matrix(y_test, preds))\n",
    "print('\\n')\n",
    "print(classification_report(y_test, preds))\n",
    "nb.score(X_train, y_train)"
   ]
  },
  {
   "cell_type": "code",
   "execution_count": 87,
   "metadata": {},
   "outputs": [
    {
     "name": "stderr",
     "output_type": "stream",
     "text": [
      "D:\\Anaconda3\\envs\\gputest\\lib\\site-packages\\sklearn\\utils\\validation.py:760: DataConversionWarning: A column-vector y was passed when a 1d array was expected. Please change the shape of y to (n_samples, ), for example using ravel().\n",
      "  y = column_or_1d(y, warn=True)\n"
     ]
    }
   ],
   "source": [
    "#support vector machine\n",
    "from sklearn.svm import SVC\n",
    "clf = SVC()\n",
    "clf.fit(X_train, y_train) \n",
    "predsvm=clf.predict(X_test)"
   ]
  },
  {
   "cell_type": "code",
   "execution_count": 88,
   "metadata": {},
   "outputs": [
    {
     "name": "stdout",
     "output_type": "stream",
     "text": [
      "[[  754  1683]\n",
      " [  377 28533]]\n",
      "\n",
      "\n",
      "              precision    recall  f1-score   support\n",
      "\n",
      "           1       0.91      0.42      0.57      2437\n",
      "           5       0.95      1.00      0.97     28910\n",
      "\n",
      "    accuracy                           0.95     31347\n",
      "   macro avg       0.93      0.71      0.77     31347\n",
      "weighted avg       0.95      0.95      0.94     31347\n",
      "\n"
     ]
    },
    {
     "data": {
      "text/plain": [
       "0.981200694548885"
      ]
     },
     "execution_count": 88,
     "metadata": {},
     "output_type": "execute_result"
    }
   ],
   "source": [
    "from sklearn.metrics import confusion_matrix, classification_report\n",
    "print(confusion_matrix(y_test, preds))\n",
    "print('\\n')\n",
    "print(classification_report(y_test, predsvm))\n",
    "predsvm=clf.predict(X_test)\n",
    "clf.score(X_train,y_train)"
   ]
  },
  {
   "cell_type": "code",
   "execution_count": 89,
   "metadata": {},
   "outputs": [
    {
     "name": "stderr",
     "output_type": "stream",
     "text": [
      "D:\\Anaconda3\\envs\\gputest\\lib\\site-packages\\ipykernel_launcher.py:4: DataConversionWarning: A column-vector y was passed when a 1d array was expected. Please change the shape of y to (n_samples, ), for example using ravel().\n",
      "  after removing the cwd from sys.path.\n"
     ]
    },
    {
     "data": {
      "text/plain": [
       "KNeighborsClassifier(algorithm='auto', leaf_size=30, metric='minkowski',\n",
       "                     metric_params=None, n_jobs=None, n_neighbors=3, p=2,\n",
       "                     weights='uniform')"
      ]
     },
     "execution_count": 89,
     "metadata": {},
     "output_type": "execute_result"
    }
   ],
   "source": [
    "#KNeighborsClassifier\n",
    "from sklearn.neighbors import KNeighborsClassifier\n",
    "neigh = KNeighborsClassifier(n_neighbors=3)\n",
    "neigh.fit(X, y) "
   ]
  },
  {
   "cell_type": "code",
   "execution_count": 90,
   "metadata": {},
   "outputs": [],
   "source": [
    "predsknn=neigh.predict(X_test)"
   ]
  },
  {
   "cell_type": "code",
   "execution_count": 91,
   "metadata": {},
   "outputs": [
    {
     "name": "stdout",
     "output_type": "stream",
     "text": [
      "[[  371  2066]\n",
      " [   92 28818]]\n",
      "\n",
      "\n",
      "              precision    recall  f1-score   support\n",
      "\n",
      "           1       0.80      0.15      0.26      2437\n",
      "           5       0.93      1.00      0.96     28910\n",
      "\n",
      "    accuracy                           0.93     31347\n",
      "   macro avg       0.87      0.57      0.61     31347\n",
      "weighted avg       0.92      0.93      0.91     31347\n",
      "\n"
     ]
    },
    {
     "data": {
      "text/plain": [
       "0.9287540503958108"
      ]
     },
     "execution_count": 91,
     "metadata": {},
     "output_type": "execute_result"
    }
   ],
   "source": [
    "from sklearn.metrics import confusion_matrix, classification_report\n",
    "print(confusion_matrix(y_test, predsknn))\n",
    "print('\\n')\n",
    "print(classification_report(y_test, predsknn))\n",
    "neigh.score(X_train,y_train)"
   ]
  },
  {
   "cell_type": "code",
   "execution_count": 92,
   "metadata": {},
   "outputs": [
    {
     "name": "stderr",
     "output_type": "stream",
     "text": [
      "D:\\Anaconda3\\envs\\gputest\\lib\\site-packages\\sklearn\\ensemble\\_gb.py:1454: DataConversionWarning: A column-vector y was passed when a 1d array was expected. Please change the shape of y to (n_samples, ), for example using ravel().\n",
      "  y = column_or_1d(y, warn=True)\n"
     ]
    }
   ],
   "source": [
    "#GradientBoostingClassifier\n",
    "from sklearn.ensemble import GradientBoostingClassifier\n",
    "model= GradientBoostingClassifier(n_estimators=100, learning_rate=1.0, max_depth=1, random_state=0)\n",
    "model.fit(X_train, y_train)\n",
    "predicted= model.predict(X_test)"
   ]
  },
  {
   "cell_type": "code",
   "execution_count": 93,
   "metadata": {
    "scrolled": true
   },
   "outputs": [
    {
     "name": "stdout",
     "output_type": "stream",
     "text": [
      "[[  197  2240]\n",
      " [  145 28765]]\n",
      "\n",
      "\n",
      "              precision    recall  f1-score   support\n",
      "\n",
      "           1       0.58      0.08      0.14      2437\n",
      "           5       0.93      0.99      0.96     28910\n",
      "\n",
      "    accuracy                           0.92     31347\n",
      "   macro avg       0.75      0.54      0.55     31347\n",
      "weighted avg       0.90      0.92      0.90     31347\n",
      "\n"
     ]
    },
    {
     "data": {
      "text/plain": [
       "0.9214667559918513"
      ]
     },
     "execution_count": 93,
     "metadata": {},
     "output_type": "execute_result"
    }
   ],
   "source": [
    "from sklearn.metrics import confusion_matrix, classification_report\n",
    "print(confusion_matrix(y_test, predicted))\n",
    "print('\\n')\n",
    "print(classification_report(y_test, predicted))\n",
    "model.score(X_train,y_train)"
   ]
  },
  {
   "cell_type": "code",
   "execution_count": 94,
   "metadata": {},
   "outputs": [
    {
     "data": {
      "text/plain": [
       "'This book is a must have if you get a Zoku (which I also highly recommend). There is a large variety of recipes from simple, to fancy. The flavor combos are creative, and it gives you ideas for decorating the pops too. They turn out as beautiful as they are tasty. After reading it you will be inspired to create your own recipes too.'"
      ]
     },
     "execution_count": 94,
     "metadata": {},
     "output_type": "execute_result"
    }
   ],
   "source": [
    "positive_review = actualrating['reviewText'][3]\n",
    "positive_review"
   ]
  },
  {
   "cell_type": "code",
   "execution_count": 95,
   "metadata": {},
   "outputs": [
    {
     "data": {
      "text/plain": [
       "5"
      ]
     },
     "execution_count": 95,
     "metadata": {},
     "output_type": "execute_result"
    }
   ],
   "source": [
    "positive_review_transformed = bow_transformer.transform([positive_review])\n",
    "nb.predict(positive_review_transformed)[0]"
   ]
  },
  {
   "cell_type": "code",
   "execution_count": 96,
   "metadata": {},
   "outputs": [
    {
     "data": {
      "text/plain": [
       "'I bought this zoku quick pop for my daughterr with her zoku quick maker. She loves it and have fun to make her own ice cream.'"
      ]
     },
     "execution_count": 96,
     "metadata": {},
     "output_type": "execute_result"
    }
   ],
   "source": [
    "positive_review = actualrating['reviewText'][1]\n",
    "positive_review"
   ]
  },
  {
   "cell_type": "code",
   "execution_count": 97,
   "metadata": {},
   "outputs": [
    {
     "data": {
      "text/plain": [
       "5"
      ]
     },
     "execution_count": 97,
     "metadata": {},
     "output_type": "execute_result"
    }
   ],
   "source": [
    "positive_review_transformed = bow_transformer.transform([positive_review])\n",
    "model.predict(positive_review_transformed)[0]"
   ]
  },
  {
   "cell_type": "code",
   "execution_count": 98,
   "metadata": {},
   "outputs": [
    {
     "name": "stdout",
     "output_type": "stream",
     "text": [
      "I did sloppy shopping. This machine is exactly what the name says it is - a speller. I wanted definitions, OH, that would be a dictionary! I ordered a dictionary an I am happy - except the voice is scratchy. Life is not perfect.gg\n"
     ]
    }
   ],
   "source": [
    "negative_review = mpermanent['reviewText'][120]\n",
    "print(negative_review)"
   ]
  },
  {
   "cell_type": "code",
   "execution_count": 99,
   "metadata": {},
   "outputs": [
    {
     "data": {
      "text/html": [
       "<div>\n",
       "<style scoped>\n",
       "    .dataframe tbody tr th:only-of-type {\n",
       "        vertical-align: middle;\n",
       "    }\n",
       "\n",
       "    .dataframe tbody tr th {\n",
       "        vertical-align: top;\n",
       "    }\n",
       "\n",
       "    .dataframe thead th {\n",
       "        text-align: right;\n",
       "    }\n",
       "</style>\n",
       "<table border=\"1\" class=\"dataframe\">\n",
       "  <thead>\n",
       "    <tr style=\"text-align: right;\">\n",
       "      <th></th>\n",
       "      <th>overall</th>\n",
       "      <th>reviewText</th>\n",
       "      <th>summary</th>\n",
       "      <th>reviewerName</th>\n",
       "    </tr>\n",
       "  </thead>\n",
       "  <tbody>\n",
       "    <tr>\n",
       "      <th>40</th>\n",
       "      <td>1</td>\n",
       "      <td>This is so remedial.  Buy a Wilton magazine fo...</td>\n",
       "      <td>Waste of money</td>\n",
       "      <td>C. SIMMONS</td>\n",
       "    </tr>\n",
       "    <tr>\n",
       "      <th>120</th>\n",
       "      <td>1</td>\n",
       "      <td>I did sloppy shopping. This machine is exactly...</td>\n",
       "      <td>Sprelling Only</td>\n",
       "      <td>glory</td>\n",
       "    </tr>\n",
       "    <tr>\n",
       "      <th>127</th>\n",
       "      <td>1</td>\n",
       "      <td>If you type the wrong word in, it &amp;#34;might&amp;#...</td>\n",
       "      <td>It doesn't do much.</td>\n",
       "      <td>Shirley</td>\n",
       "    </tr>\n",
       "    <tr>\n",
       "      <th>139</th>\n",
       "      <td>1</td>\n",
       "      <td>I'm very disappointed in this device. It's bas...</td>\n",
       "      <td>It is basically just a coat hanger</td>\n",
       "      <td>JCR</td>\n",
       "    </tr>\n",
       "    <tr>\n",
       "      <th>225</th>\n",
       "      <td>1</td>\n",
       "      <td>Can't chop anything well.  [Tried onions, toma...</td>\n",
       "      <td>It's A Joke, Right?</td>\n",
       "      <td>affromma</td>\n",
       "    </tr>\n",
       "    <tr>\n",
       "      <th>...</th>\n",
       "      <td>...</td>\n",
       "      <td>...</td>\n",
       "      <td>...</td>\n",
       "      <td>...</td>\n",
       "    </tr>\n",
       "    <tr>\n",
       "      <th>550733</th>\n",
       "      <td>1</td>\n",
       "      <td>*I simply do not understand this product.  It ...</td>\n",
       "      <td>Comical product</td>\n",
       "      <td>My Fake Name</td>\n",
       "    </tr>\n",
       "    <tr>\n",
       "      <th>551248</th>\n",
       "      <td>1</td>\n",
       "      <td>Avoid DEALWAY as your seller!!!I was so excite...</td>\n",
       "      <td>\"DEALWAY\" Seller doesn't send Martex brand, se...</td>\n",
       "      <td>NYShopper105</td>\n",
       "    </tr>\n",
       "    <tr>\n",
       "      <th>551255</th>\n",
       "      <td>1</td>\n",
       "      <td>The ad claims the are absorbant but they have ...</td>\n",
       "      <td>NOT ABSORBANT</td>\n",
       "      <td>Roy Berger \"Everyman\"</td>\n",
       "    </tr>\n",
       "    <tr>\n",
       "      <th>551461</th>\n",
       "      <td>1</td>\n",
       "      <td>This is not my first French coffee press. Whil...</td>\n",
       "      <td>Design flaw</td>\n",
       "      <td>Bobbito</td>\n",
       "    </tr>\n",
       "    <tr>\n",
       "      <th>551468</th>\n",
       "      <td>1</td>\n",
       "      <td>This is a very good looking press, but it's ve...</td>\n",
       "      <td>Don't Purchase</td>\n",
       "      <td>DJY51</td>\n",
       "    </tr>\n",
       "  </tbody>\n",
       "</table>\n",
       "<p>26852 rows × 4 columns</p>\n",
       "</div>"
      ],
      "text/plain": [
       "        overall                                         reviewText  \\\n",
       "40            1  This is so remedial.  Buy a Wilton magazine fo...   \n",
       "120           1  I did sloppy shopping. This machine is exactly...   \n",
       "127           1  If you type the wrong word in, it &#34;might&#...   \n",
       "139           1  I'm very disappointed in this device. It's bas...   \n",
       "225           1  Can't chop anything well.  [Tried onions, toma...   \n",
       "...         ...                                                ...   \n",
       "550733        1  *I simply do not understand this product.  It ...   \n",
       "551248        1  Avoid DEALWAY as your seller!!!I was so excite...   \n",
       "551255        1  The ad claims the are absorbant but they have ...   \n",
       "551461        1  This is not my first French coffee press. Whil...   \n",
       "551468        1  This is a very good looking press, but it's ve...   \n",
       "\n",
       "                                                  summary  \\\n",
       "40                                         Waste of money   \n",
       "120                                        Sprelling Only   \n",
       "127                                   It doesn't do much.   \n",
       "139                    It is basically just a coat hanger   \n",
       "225                                   It's A Joke, Right?   \n",
       "...                                                   ...   \n",
       "550733                                    Comical product   \n",
       "551248  \"DEALWAY\" Seller doesn't send Martex brand, se...   \n",
       "551255                                      NOT ABSORBANT   \n",
       "551461                                        Design flaw   \n",
       "551468                                     Don't Purchase   \n",
       "\n",
       "                 reviewerName  \n",
       "40                 C. SIMMONS  \n",
       "120                     glory  \n",
       "127                   Shirley  \n",
       "139                       JCR  \n",
       "225                  affromma  \n",
       "...                       ...  \n",
       "550733           My Fake Name  \n",
       "551248           NYShopper105  \n",
       "551255  Roy Berger \"Everyman\"  \n",
       "551461                Bobbito  \n",
       "551468                  DJY51  \n",
       "\n",
       "[26852 rows x 4 columns]"
      ]
     },
     "execution_count": 99,
     "metadata": {},
     "output_type": "execute_result"
    }
   ],
   "source": [
    "actualrating[actualrating['overall']==1]"
   ]
  },
  {
   "cell_type": "code",
   "execution_count": 100,
   "metadata": {},
   "outputs": [
    {
     "data": {
      "text/plain": [
       "1"
      ]
     },
     "execution_count": 100,
     "metadata": {},
     "output_type": "execute_result"
    }
   ],
   "source": [
    "negative_review_transformed = bow_transformer.transform([negative_review])\n",
    "nb.predict(negative_review_transformed)[0]"
   ]
  },
  {
   "cell_type": "code",
   "execution_count": 101,
   "metadata": {},
   "outputs": [
    {
     "data": {
      "text/plain": [
       "5"
      ]
     },
     "execution_count": 101,
     "metadata": {},
     "output_type": "execute_result"
    }
   ],
   "source": [
    "negative_review_transformed = bow_transformer.transform([negative_review])\n",
    "neigh.predict(negative_review_transformed)[0]"
   ]
  },
  {
   "cell_type": "code",
   "execution_count": 9,
   "metadata": {},
   "outputs": [
    {
     "name": "stderr",
     "output_type": "stream",
     "text": [
      "C:\\Users\\juyee\\Anaconda3\\lib\\site-packages\\ipykernel_launcher.py:4: SettingWithCopyWarning: \n",
      "A value is trying to be set on a copy of a slice from a DataFrame.\n",
      "Try using .loc[row_indexer,col_indexer] = value instead\n",
      "\n",
      "See the caveats in the documentation: http://pandas.pydata.org/pandas-docs/stable/user_guide/indexing.html#returning-a-view-versus-a-copy\n",
      "  after removing the cwd from sys.path.\n"
     ]
    }
   ],
   "source": [
    "# lets have a label which group the stars into two groups, 1 for good, 0 for bad \n",
    "# so anything more than 3 , 3 being neutral is good, rest bad\n",
    "# data['label'] = ['1' if reviews.rating > 3 else '0' for reviews.rating in data['reviews.rating']];\n",
    "mpermanent['label'] = ['1' if star > 3 else '0' for star in mpermanent['overall']];"
   ]
  },
  {
   "cell_type": "code",
   "execution_count": 10,
   "metadata": {},
   "outputs": [
    {
     "data": {
      "text/html": [
       "<div>\n",
       "<style scoped>\n",
       "    .dataframe tbody tr th:only-of-type {\n",
       "        vertical-align: middle;\n",
       "    }\n",
       "\n",
       "    .dataframe tbody tr th {\n",
       "        vertical-align: top;\n",
       "    }\n",
       "\n",
       "    .dataframe thead th {\n",
       "        text-align: right;\n",
       "    }\n",
       "</style>\n",
       "<table border=\"1\" class=\"dataframe\">\n",
       "  <thead>\n",
       "    <tr style=\"text-align: right;\">\n",
       "      <th></th>\n",
       "      <th>overall</th>\n",
       "      <th>reviewText</th>\n",
       "      <th>summary</th>\n",
       "      <th>reviewerName</th>\n",
       "      <th>label</th>\n",
       "    </tr>\n",
       "  </thead>\n",
       "  <tbody>\n",
       "    <tr>\n",
       "      <td>0</td>\n",
       "      <td>5</td>\n",
       "      <td>My daughter wanted this book and the price on ...</td>\n",
       "      <td>Best Price</td>\n",
       "      <td>Martin Schwartz</td>\n",
       "      <td>1</td>\n",
       "    </tr>\n",
       "    <tr>\n",
       "      <td>1</td>\n",
       "      <td>5</td>\n",
       "      <td>I bought this zoku quick pop for my daughterr ...</td>\n",
       "      <td>zoku</td>\n",
       "      <td>Michelle Dinh</td>\n",
       "      <td>1</td>\n",
       "    </tr>\n",
       "    <tr>\n",
       "      <td>2</td>\n",
       "      <td>4</td>\n",
       "      <td>There is no shortage of pop recipes available ...</td>\n",
       "      <td>Excels at Sweet Dessert Pops, but Falls Short ...</td>\n",
       "      <td>mirasreviews</td>\n",
       "      <td>1</td>\n",
       "    </tr>\n",
       "    <tr>\n",
       "      <td>3</td>\n",
       "      <td>5</td>\n",
       "      <td>This book is a must have if you get a Zoku (wh...</td>\n",
       "      <td>Creative Combos</td>\n",
       "      <td>M. Johnson \"Tea Lover\"</td>\n",
       "      <td>1</td>\n",
       "    </tr>\n",
       "    <tr>\n",
       "      <td>4</td>\n",
       "      <td>4</td>\n",
       "      <td>This cookbook is great.  I have really enjoyed...</td>\n",
       "      <td>A must own if you own the Zoku maker...</td>\n",
       "      <td>PugLover</td>\n",
       "      <td>1</td>\n",
       "    </tr>\n",
       "    <tr>\n",
       "      <td>...</td>\n",
       "      <td>...</td>\n",
       "      <td>...</td>\n",
       "      <td>...</td>\n",
       "      <td>...</td>\n",
       "      <td>...</td>\n",
       "    </tr>\n",
       "    <tr>\n",
       "      <td>551677</td>\n",
       "      <td>5</td>\n",
       "      <td>These ice pop molds are awesome! Bright kid-ha...</td>\n",
       "      <td>Summer fun for everyone!</td>\n",
       "      <td>Karinna Ball</td>\n",
       "      <td>1</td>\n",
       "    </tr>\n",
       "    <tr>\n",
       "      <td>551678</td>\n",
       "      <td>5</td>\n",
       "      <td>great popsicle molds - very nice quality - and...</td>\n",
       "      <td>Five Stars</td>\n",
       "      <td>L Green</td>\n",
       "      <td>1</td>\n",
       "    </tr>\n",
       "    <tr>\n",
       "      <td>551679</td>\n",
       "      <td>5</td>\n",
       "      <td>My kids and I are loving these - putting our c...</td>\n",
       "      <td>... these - putting our creativity to the test...</td>\n",
       "      <td>Richard N</td>\n",
       "      <td>1</td>\n",
       "    </tr>\n",
       "    <tr>\n",
       "      <td>551680</td>\n",
       "      <td>5</td>\n",
       "      <td>I love these ice pop makers. First off, I love...</td>\n",
       "      <td>love them</td>\n",
       "      <td>RS</td>\n",
       "      <td>1</td>\n",
       "    </tr>\n",
       "    <tr>\n",
       "      <td>551681</td>\n",
       "      <td>5</td>\n",
       "      <td>My kids love these ice pop makers!!!  Since we...</td>\n",
       "      <td>Great popsicle molds!!!  Perfect for making su...</td>\n",
       "      <td>Tonya S</td>\n",
       "      <td>1</td>\n",
       "    </tr>\n",
       "  </tbody>\n",
       "</table>\n",
       "<p>546729 rows × 5 columns</p>\n",
       "</div>"
      ],
      "text/plain": [
       "        overall                                         reviewText  \\\n",
       "0             5  My daughter wanted this book and the price on ...   \n",
       "1             5  I bought this zoku quick pop for my daughterr ...   \n",
       "2             4  There is no shortage of pop recipes available ...   \n",
       "3             5  This book is a must have if you get a Zoku (wh...   \n",
       "4             4  This cookbook is great.  I have really enjoyed...   \n",
       "...         ...                                                ...   \n",
       "551677        5  These ice pop molds are awesome! Bright kid-ha...   \n",
       "551678        5  great popsicle molds - very nice quality - and...   \n",
       "551679        5  My kids and I are loving these - putting our c...   \n",
       "551680        5  I love these ice pop makers. First off, I love...   \n",
       "551681        5  My kids love these ice pop makers!!!  Since we...   \n",
       "\n",
       "                                                  summary  \\\n",
       "0                                              Best Price   \n",
       "1                                                    zoku   \n",
       "2       Excels at Sweet Dessert Pops, but Falls Short ...   \n",
       "3                                         Creative Combos   \n",
       "4                 A must own if you own the Zoku maker...   \n",
       "...                                                   ...   \n",
       "551677                           Summer fun for everyone!   \n",
       "551678                                         Five Stars   \n",
       "551679  ... these - putting our creativity to the test...   \n",
       "551680                                          love them   \n",
       "551681  Great popsicle molds!!!  Perfect for making su...   \n",
       "\n",
       "                  reviewerName label  \n",
       "0              Martin Schwartz     1  \n",
       "1                Michelle Dinh     1  \n",
       "2                 mirasreviews     1  \n",
       "3       M. Johnson \"Tea Lover\"     1  \n",
       "4                     PugLover     1  \n",
       "...                        ...   ...  \n",
       "551677            Karinna Ball     1  \n",
       "551678                 L Green     1  \n",
       "551679               Richard N     1  \n",
       "551680                      RS     1  \n",
       "551681                 Tonya S     1  \n",
       "\n",
       "[546729 rows x 5 columns]"
      ]
     },
     "execution_count": 10,
     "metadata": {},
     "output_type": "execute_result"
    }
   ],
   "source": [
    "mpermanent"
   ]
  },
  {
   "cell_type": "code",
   "execution_count": 13,
   "metadata": {},
   "outputs": [
    {
     "data": {
      "text/html": [
       "<div>\n",
       "<style scoped>\n",
       "    .dataframe tbody tr th:only-of-type {\n",
       "        vertical-align: middle;\n",
       "    }\n",
       "\n",
       "    .dataframe tbody tr th {\n",
       "        vertical-align: top;\n",
       "    }\n",
       "\n",
       "    .dataframe thead th {\n",
       "        text-align: right;\n",
       "    }\n",
       "</style>\n",
       "<table border=\"1\" class=\"dataframe\">\n",
       "  <thead>\n",
       "    <tr style=\"text-align: right;\">\n",
       "      <th></th>\n",
       "      <th>overall</th>\n",
       "      <th>reviewText</th>\n",
       "      <th>summary</th>\n",
       "      <th>reviewerName</th>\n",
       "      <th>label</th>\n",
       "    </tr>\n",
       "  </thead>\n",
       "  <tbody>\n",
       "    <tr>\n",
       "      <td>2</td>\n",
       "      <td>4</td>\n",
       "      <td>There is no shortage of pop recipes available ...</td>\n",
       "      <td>Excels at Sweet Dessert Pops, but Falls Short ...</td>\n",
       "      <td>mirasreviews</td>\n",
       "      <td>1</td>\n",
       "    </tr>\n",
       "    <tr>\n",
       "      <td>4</td>\n",
       "      <td>4</td>\n",
       "      <td>This cookbook is great.  I have really enjoyed...</td>\n",
       "      <td>A must own if you own the Zoku maker...</td>\n",
       "      <td>PugLover</td>\n",
       "      <td>1</td>\n",
       "    </tr>\n",
       "    <tr>\n",
       "      <td>10</td>\n",
       "      <td>4</td>\n",
       "      <td>The recipes in this books are tedious to make....</td>\n",
       "      <td>I liked this book, but........</td>\n",
       "      <td>Steven Griffis</td>\n",
       "      <td>1</td>\n",
       "    </tr>\n",
       "    <tr>\n",
       "      <td>22</td>\n",
       "      <td>4</td>\n",
       "      <td>helpful information on decoraing basics. Good ...</td>\n",
       "      <td>This is a good book for anyone interested in c...</td>\n",
       "      <td>alma morsell</td>\n",
       "      <td>1</td>\n",
       "    </tr>\n",
       "    <tr>\n",
       "      <td>27</td>\n",
       "      <td>4</td>\n",
       "      <td>I am very happy I purchased this book as it co...</td>\n",
       "      <td>good tips</td>\n",
       "      <td>Aniusia</td>\n",
       "      <td>1</td>\n",
       "    </tr>\n",
       "    <tr>\n",
       "      <td>...</td>\n",
       "      <td>...</td>\n",
       "      <td>...</td>\n",
       "      <td>...</td>\n",
       "      <td>...</td>\n",
       "      <td>...</td>\n",
       "    </tr>\n",
       "    <tr>\n",
       "      <td>551543</td>\n",
       "      <td>4</td>\n",
       "      <td>I received a free sample in exchange for an ho...</td>\n",
       "      <td>Work well</td>\n",
       "      <td>mountainmama \"Shirley Hicks\"</td>\n",
       "      <td>1</td>\n",
       "    </tr>\n",
       "    <tr>\n",
       "      <td>551548</td>\n",
       "      <td>4</td>\n",
       "      <td>We like making our own pops with crystal light...</td>\n",
       "      <td>.. old idea brought back to life in a new, imp...</td>\n",
       "      <td>S. Beck \"mysticalley\"</td>\n",
       "      <td>1</td>\n",
       "    </tr>\n",
       "    <tr>\n",
       "      <td>551584</td>\n",
       "      <td>4</td>\n",
       "      <td>I'm still amazed not everyone uses laundry bag...</td>\n",
       "      <td>The last laundry bags you'll ever need</td>\n",
       "      <td>Katy Lake</td>\n",
       "      <td>1</td>\n",
       "    </tr>\n",
       "    <tr>\n",
       "      <td>551585</td>\n",
       "      <td>4</td>\n",
       "      <td>As a member of a Keeble Outlets consumer test ...</td>\n",
       "      <td>As a member of a Keeble Outlets consumer test ...</td>\n",
       "      <td>Robert</td>\n",
       "      <td>1</td>\n",
       "    </tr>\n",
       "    <tr>\n",
       "      <td>551626</td>\n",
       "      <td>4</td>\n",
       "      <td>After using both the stainless steel and glaci...</td>\n",
       "      <td>Nice for fun cocktails</td>\n",
       "      <td>Nish</td>\n",
       "      <td>1</td>\n",
       "    </tr>\n",
       "  </tbody>\n",
       "</table>\n",
       "<p>104586 rows × 5 columns</p>\n",
       "</div>"
      ],
      "text/plain": [
       "        overall                                         reviewText  \\\n",
       "2             4  There is no shortage of pop recipes available ...   \n",
       "4             4  This cookbook is great.  I have really enjoyed...   \n",
       "10            4  The recipes in this books are tedious to make....   \n",
       "22            4  helpful information on decoraing basics. Good ...   \n",
       "27            4  I am very happy I purchased this book as it co...   \n",
       "...         ...                                                ...   \n",
       "551543        4  I received a free sample in exchange for an ho...   \n",
       "551548        4  We like making our own pops with crystal light...   \n",
       "551584        4  I'm still amazed not everyone uses laundry bag...   \n",
       "551585        4  As a member of a Keeble Outlets consumer test ...   \n",
       "551626        4  After using both the stainless steel and glaci...   \n",
       "\n",
       "                                                  summary  \\\n",
       "2       Excels at Sweet Dessert Pops, but Falls Short ...   \n",
       "4                 A must own if you own the Zoku maker...   \n",
       "10                         I liked this book, but........   \n",
       "22      This is a good book for anyone interested in c...   \n",
       "27                                              good tips   \n",
       "...                                                   ...   \n",
       "551543                                          Work well   \n",
       "551548  .. old idea brought back to life in a new, imp...   \n",
       "551584             The last laundry bags you'll ever need   \n",
       "551585  As a member of a Keeble Outlets consumer test ...   \n",
       "551626                             Nice for fun cocktails   \n",
       "\n",
       "                        reviewerName label  \n",
       "2                       mirasreviews     1  \n",
       "4                           PugLover     1  \n",
       "10                    Steven Griffis     1  \n",
       "22                      alma morsell     1  \n",
       "27                           Aniusia     1  \n",
       "...                              ...   ...  \n",
       "551543  mountainmama \"Shirley Hicks\"     1  \n",
       "551548         S. Beck \"mysticalley\"     1  \n",
       "551584                     Katy Lake     1  \n",
       "551585                        Robert     1  \n",
       "551626                          Nish     1  \n",
       "\n",
       "[104586 rows x 5 columns]"
      ]
     },
     "execution_count": 13,
     "metadata": {},
     "output_type": "execute_result"
    }
   ],
   "source": [
    "mpermanent.loc[mpermanent['overall']==4]"
   ]
  },
  {
   "cell_type": "code",
   "execution_count": 14,
   "metadata": {},
   "outputs": [
    {
     "data": {
      "text/plain": [
       "'helpful information on decoraing basics. Good book for beginners who need step by step instructions and guidance. Good for all age groups.'"
      ]
     },
     "execution_count": 14,
     "metadata": {},
     "output_type": "execute_result"
    }
   ],
   "source": [
    "mpermanent['reviewText'][22]"
   ]
  },
  {
   "cell_type": "code",
   "execution_count": 11,
   "metadata": {},
   "outputs": [
    {
     "data": {
      "text/html": [
       "<div>\n",
       "<style scoped>\n",
       "    .dataframe tbody tr th:only-of-type {\n",
       "        vertical-align: middle;\n",
       "    }\n",
       "\n",
       "    .dataframe tbody tr th {\n",
       "        vertical-align: top;\n",
       "    }\n",
       "\n",
       "    .dataframe thead th {\n",
       "        text-align: right;\n",
       "    }\n",
       "</style>\n",
       "<table border=\"1\" class=\"dataframe\">\n",
       "  <thead>\n",
       "    <tr style=\"text-align: right;\">\n",
       "      <th></th>\n",
       "      <th>overall</th>\n",
       "      <th>reviewText</th>\n",
       "      <th>summary</th>\n",
       "      <th>reviewerName</th>\n",
       "      <th>label</th>\n",
       "    </tr>\n",
       "  </thead>\n",
       "  <tbody>\n",
       "    <tr>\n",
       "      <td>7</td>\n",
       "      <td>2</td>\n",
       "      <td>I bought this when I bought the pop maker. I t...</td>\n",
       "      <td>Okay but you can figure it out yourself withou...</td>\n",
       "      <td>S. G. \"s.g.\"</td>\n",
       "      <td>0</td>\n",
       "    </tr>\n",
       "    <tr>\n",
       "      <td>26</td>\n",
       "      <td>2</td>\n",
       "      <td>didn't really care many of the cakes at all. n...</td>\n",
       "      <td>not the best</td>\n",
       "      <td>Amazon Customer</td>\n",
       "      <td>0</td>\n",
       "    </tr>\n",
       "    <tr>\n",
       "      <td>109</td>\n",
       "      <td>2</td>\n",
       "      <td>Bag tore with almost nothing in it - Just caug...</td>\n",
       "      <td>Tore rather easily</td>\n",
       "      <td>Amazon Customer</td>\n",
       "      <td>0</td>\n",
       "    </tr>\n",
       "    <tr>\n",
       "      <td>151</td>\n",
       "      <td>2</td>\n",
       "      <td>I'm very disappointed with this purchase. The ...</td>\n",
       "      <td>Ugly and of poor quality</td>\n",
       "      <td>Natalia Murataeva \"Natasha\"</td>\n",
       "      <td>0</td>\n",
       "    </tr>\n",
       "    <tr>\n",
       "      <td>194</td>\n",
       "      <td>2</td>\n",
       "      <td>The small spoon is too small. The bigger spoon...</td>\n",
       "      <td>Eh.</td>\n",
       "      <td>Suizee</td>\n",
       "      <td>0</td>\n",
       "    </tr>\n",
       "    <tr>\n",
       "      <td>...</td>\n",
       "      <td>...</td>\n",
       "      <td>...</td>\n",
       "      <td>...</td>\n",
       "      <td>...</td>\n",
       "      <td>...</td>\n",
       "    </tr>\n",
       "    <tr>\n",
       "      <td>550727</td>\n",
       "      <td>2</td>\n",
       "      <td>This bottle seemed like a great idea for me.  ...</td>\n",
       "      <td>Great idea but implementation limits its usefu...</td>\n",
       "      <td>J. Musto \"Toolman Joe\"</td>\n",
       "      <td>0</td>\n",
       "    </tr>\n",
       "    <tr>\n",
       "      <td>550730</td>\n",
       "      <td>2</td>\n",
       "      <td>This just seems slow and awkward to me with th...</td>\n",
       "      <td>Not for the Very Thirsty</td>\n",
       "      <td>K. McGee \"KayJay\"</td>\n",
       "      <td>0</td>\n",
       "    </tr>\n",
       "    <tr>\n",
       "      <td>550732</td>\n",
       "      <td>2</td>\n",
       "      <td>So, I have to pre-filter the questionable wate...</td>\n",
       "      <td>Have to pre-filter the questionable water in s...</td>\n",
       "      <td>mom2boyz</td>\n",
       "      <td>0</td>\n",
       "    </tr>\n",
       "    <tr>\n",
       "      <td>550738</td>\n",
       "      <td>2</td>\n",
       "      <td>The quality of this bottle is very high, typic...</td>\n",
       "      <td>Good product but very impractical</td>\n",
       "      <td>Tiger</td>\n",
       "      <td>0</td>\n",
       "    </tr>\n",
       "    <tr>\n",
       "      <td>551465</td>\n",
       "      <td>2</td>\n",
       "      <td>I won't debate the quality of French press cof...</td>\n",
       "      <td>There are better French press coffeemakers aro...</td>\n",
       "      <td>C. Williamson</td>\n",
       "      <td>0</td>\n",
       "    </tr>\n",
       "  </tbody>\n",
       "</table>\n",
       "<p>24079 rows × 5 columns</p>\n",
       "</div>"
      ],
      "text/plain": [
       "        overall                                         reviewText  \\\n",
       "7             2  I bought this when I bought the pop maker. I t...   \n",
       "26            2  didn't really care many of the cakes at all. n...   \n",
       "109           2  Bag tore with almost nothing in it - Just caug...   \n",
       "151           2  I'm very disappointed with this purchase. The ...   \n",
       "194           2  The small spoon is too small. The bigger spoon...   \n",
       "...         ...                                                ...   \n",
       "550727        2  This bottle seemed like a great idea for me.  ...   \n",
       "550730        2  This just seems slow and awkward to me with th...   \n",
       "550732        2  So, I have to pre-filter the questionable wate...   \n",
       "550738        2  The quality of this bottle is very high, typic...   \n",
       "551465        2  I won't debate the quality of French press cof...   \n",
       "\n",
       "                                                  summary  \\\n",
       "7       Okay but you can figure it out yourself withou...   \n",
       "26                                           not the best   \n",
       "109                                    Tore rather easily   \n",
       "151                              Ugly and of poor quality   \n",
       "194                                                   Eh.   \n",
       "...                                                   ...   \n",
       "550727  Great idea but implementation limits its usefu...   \n",
       "550730                           Not for the Very Thirsty   \n",
       "550732  Have to pre-filter the questionable water in s...   \n",
       "550738                  Good product but very impractical   \n",
       "551465  There are better French press coffeemakers aro...   \n",
       "\n",
       "                       reviewerName label  \n",
       "7                      S. G. \"s.g.\"     0  \n",
       "26                  Amazon Customer     0  \n",
       "109                 Amazon Customer     0  \n",
       "151     Natalia Murataeva \"Natasha\"     0  \n",
       "194                          Suizee     0  \n",
       "...                             ...   ...  \n",
       "550727       J. Musto \"Toolman Joe\"     0  \n",
       "550730            K. McGee \"KayJay\"     0  \n",
       "550732                     mom2boyz     0  \n",
       "550738                        Tiger     0  \n",
       "551465                C. Williamson     0  \n",
       "\n",
       "[24079 rows x 5 columns]"
      ]
     },
     "execution_count": 11,
     "metadata": {},
     "output_type": "execute_result"
    }
   ],
   "source": [
    "mpermanent.loc[mpermanent['overall']==2]"
   ]
  },
  {
   "cell_type": "code",
   "execution_count": 12,
   "metadata": {},
   "outputs": [
    {
     "data": {
      "text/plain": [
       "\"I'm very disappointed with this purchase. The quality of the product is low, the paint is uneven and the bottom of the cup is cheeped.\""
      ]
     },
     "execution_count": 12,
     "metadata": {},
     "output_type": "execute_result"
    }
   ],
   "source": [
    "mpermanent['reviewText'][151]"
   ]
  },
  {
   "cell_type": "code",
   "execution_count": 115,
   "metadata": {},
   "outputs": [
    {
     "data": {
      "text/plain": [
       "\"The small spoon is too small. The bigger spoon is too big. Neither of them are true &#34;teaspoon&#34; size spoons. The flatware is very thin so the knife really has no cutting power (even for a butter knife) behind it. HOWEVER, for the price I paid, I can't expect anything else. They are pretty stylish at a glance but if you're looking to do anything that requires a durable utensil, this isn't the one you want.\""
      ]
     },
     "execution_count": 115,
     "metadata": {},
     "output_type": "execute_result"
    }
   ],
   "source": [
    "mpermanent['reviewText'][194]"
   ]
  },
  {
   "cell_type": "code",
   "execution_count": 11,
   "metadata": {},
   "outputs": [],
   "source": [
    "reviews = mpermanent['reviewText']\n",
    "labels = mpermanent['label']"
   ]
  },
  {
   "cell_type": "code",
   "execution_count": 12,
   "metadata": {},
   "outputs": [
    {
     "name": "stdout",
     "output_type": "stream",
     "text": [
      "546729\n"
     ]
    }
   ],
   "source": [
    "print(len(reviews))"
   ]
  },
  {
   "cell_type": "code",
   "execution_count": 13,
   "metadata": {},
   "outputs": [
    {
     "name": "stdout",
     "output_type": "stream",
     "text": [
      "546729\n"
     ]
    }
   ],
   "source": [
    "print(len(labels))"
   ]
  },
  {
   "cell_type": "code",
   "execution_count": 13,
   "metadata": {},
   "outputs": [
    {
     "data": {
      "text/plain": [
       "'This book is a must have if you get a Zoku (which I also highly recommend). There is a large variety of recipes from simple, to fancy. The flavor combos are creative, and it gives you ideas for decorating the pops too. They turn out as beautiful as they are tasty. After reading it you will be inspired to create your own recipes too.'"
      ]
     },
     "execution_count": 13,
     "metadata": {},
     "output_type": "execute_result"
    }
   ],
   "source": [
    "reviews[3]"
   ]
  },
  {
   "cell_type": "code",
   "execution_count": 8,
   "metadata": {},
   "outputs": [],
   "source": [
    "stop = set(stopwords.words('english'))"
   ]
  },
  {
   "cell_type": "code",
   "execution_count": 9,
   "metadata": {},
   "outputs": [],
   "source": [
    "def clean_document(doco):\n",
    "    punctuation = string.punctuation\n",
    "    punc_replace = ''.join([' ' for s in punctuation])\n",
    "    doco_link_clean = re.sub(r'http\\S+', '', doco)\n",
    "    doco_clean_and = re.sub(r'&\\S+', '', doco_link_clean)\n",
    "    doco_clean_at = re.sub(r'@\\S+', '', doco_clean_and)\n",
    "    doco_clean = doco_clean_at.replace('-', ' ')\n",
    "    doco_alphas = re.sub(r'\\W +', ' ', doco_clean)\n",
    "    trans_table = str.maketrans(punctuation, punc_replace)\n",
    "    doco_clean = ' '.join([word.translate(trans_table) for word in doco_alphas.split(' ')])\n",
    "    doco_clean = doco_clean.split(' ')\n",
    "    p = re.compile(r'\\s*\\b(?=[a-z\\d]*([a-z\\d])\\1{3}|\\d+\\b)[a-z\\d]+', re.IGNORECASE)\n",
    "    doco_clean = ([p.sub(\"\", x).strip() for x in doco_clean])\n",
    "    doco_clean = [word.lower() for word in doco_clean if len(word) > 2]\n",
    "    doco_clean = ([i for i in doco_clean if i not in stop])\n",
    "#     doco_clean = [spell(word) for word in doco_clean]\n",
    "#     p = re.compile(r'\\s*\\b(?=[a-z\\d]*([a-z\\d])\\1{3}|\\d+\\b)[a-z\\d]+', re.IGNORECASE)\n",
    "    doco_clean = ([p.sub(\"\", x).strip() for x in doco_clean])\n",
    "#     doco_clean = ([spell(k) for k in doco_clean])\n",
    "    return doco_clean"
   ]
  },
  {
   "cell_type": "code",
   "execution_count": 14,
   "metadata": {},
   "outputs": [],
   "source": [
    "# Generate a cleaned reviews array from original review texts\n",
    "review_cleans = [clean_document(doc) for doc in reviews];\n",
    "sentences = [' '.join(r) for r in review_cleans ]"
   ]
  },
  {
   "cell_type": "code",
   "execution_count": 15,
   "metadata": {},
   "outputs": [
    {
     "name": "stdout",
     "output_type": "stream",
     "text": [
      "bought bought pop maker think recipes fine really much book figured couple good creamy recipes available free recipe websites pop embellishing well hard figure either save money spend instead extra pop sticks seem disappear way socks\n"
     ]
    }
   ],
   "source": [
    "print(sentences[7])"
   ]
  },
  {
   "cell_type": "code",
   "execution_count": 16,
   "metadata": {},
   "outputs": [
    {
     "name": "stdout",
     "output_type": "stream",
     "text": [
      "I bought this when I bought the pop maker. I think the recipes are fine, but there really isn't much in the book I wouldn't have figured out myself.A couple of good creamy recipes that are now available for free on recipe websites. As for \"pop embellishing\" well, that wasn't too hard to figure out, either. I'd save the money and spend it instead on extra pop sticks, which seem to disappear the way socks do....\n"
     ]
    }
   ],
   "source": [
    "print(reviews[7])"
   ]
  },
  {
   "cell_type": "code",
   "execution_count": 17,
   "metadata": {},
   "outputs": [
    {
     "data": {
      "text/plain": [
       "(546729,)"
      ]
     },
     "execution_count": 17,
     "metadata": {},
     "output_type": "execute_result"
    }
   ],
   "source": [
    "reviews.shape"
   ]
  },
  {
   "cell_type": "code",
   "execution_count": 18,
   "metadata": {},
   "outputs": [],
   "source": [
    "#Keras\n",
    "tokenizer = Tokenizer()\n",
    "tokenizer.fit_on_texts(sentences)"
   ]
  },
  {
   "cell_type": "code",
   "execution_count": 19,
   "metadata": {},
   "outputs": [],
   "source": [
    "import pickle\n",
    "filename = 'tokenizer.pkl'\n",
    "pickle.dump(tokenizer, open(filename, 'wb'))"
   ]
  },
  {
   "cell_type": "code",
   "execution_count": 20,
   "metadata": {},
   "outputs": [],
   "source": [
    "text_sequences = np.array(tokenizer.texts_to_sequences(sentences))\n",
    "sequence_dict = tokenizer.word_index\n",
    "word_dict = dict((num, val) for (val, num) in sequence_dict.items())"
   ]
  },
  {
   "cell_type": "code",
   "execution_count": 22,
   "metadata": {},
   "outputs": [
    {
     "name": "stdout",
     "output_type": "stream",
     "text": [
      "[list([602, 161, 961, 32, 90, 86, 352, 160, 1, 586, 116, 2568, 961, 127, 117])\n",
      " list([20, 9858, 337, 612, 52031, 9858, 337, 188, 530, 559, 19, 156, 399])\n",
      " list([12265, 612, 637, 653, 331, 2524, 97, 9858, 337, 1384, 961, 9858, 7, 637, 549, 1384, 5434, 1043, 147, 961, 22818, 1511, 3018, 1384, 114, 637, 1259, 549, 1384, 374, 11201, 25739, 1546, 214, 30968, 3018, 1384, 16265, 8724, 337, 1384, 661, 1373, 12701, 43962, 196, 488, 88, 1, 612, 637, 3090, 903, 30968, 1343, 6175, 465, 3737, 1768, 764, 1276, 5, 9858, 109, 1664, 626, 961, 6383, 1236, 5937, 264, 10198, 2440, 138, 1066, 2759, 259, 2605, 549, 906, 337, 2373, 19, 2108, 1384, 4697, 2108, 1384, 269, 985, 1691, 637, 2032, 2387, 1290, 1774, 2759, 8326, 1751, 2108, 1384, 961, 3557, 28, 9858, 2483, 5729, 65, 612, 637, 1034, 47, 1511, 932, 89, 893, 586, 2619, 338, 1020, 2619, 4384, 2619, 4288, 833, 6, 5, 11870, 4077, 1974, 1053, 113, 89, 637, 165, 4655, 1295, 3097, 612, 1915, 557, 9002, 3360, 1855, 3, 780, 452, 903, 2644, 498, 2644, 498, 3629, 637, 661, 1373, 6310, 493, 780, 637, 9572, 154, 374, 1486, 549, 612, 637, 9858, 337, 1384, 1130, 549, 637, 7112, 3090, 89, 764, 586, 4438, 1384, 2853, 1290, 380, 108, 648, 2619, 3361, 6929, 374, 549, 812, 586, 4413, 1384, 1780, 1290, 1158, 2052, 1539, 89, 6413, 1855, 4413, 1290, 204, 19, 1732, 612, 961, 4, 903, 4153, 87, 3018, 612, 637, 1343, 6175, 13, 465, 549, 612, 637, 38, 1384, 26689, 69158, 100, 36])\n",
      " ... list([470, 2681, 484, 8951, 684, 329, 23])\n",
      " list([17, 156, 612, 1181, 33, 17, 1918, 331, 749, 1226, 141, 33, 404, 507, 4223, 17, 691, 558, 691, 21002, 674, 1185, 1753, 24, 149, 956, 401, 37, 149, 151778, 37, 674, 1, 151779, 149, 3156, 790, 21, 678, 691, 3535, 401, 73, 30, 2843, 151780, 1949, 3, 401, 55, 9, 482, 612, 21892, 492, 237, 19705, 482, 612, 35129, 17, 3416, 2, 61, 872])\n",
      " list([470, 17, 156, 612, 1181, 67, 9763, 1290, 380, 2286, 1854, 884, 617, 190, 301, 640, 634, 470, 1045, 3324, 8894, 1196, 1290, 380, 1384, 1466, 220, 4, 17, 417, 3593, 1547, 3188, 470, 523, 1220, 1905, 470, 11508, 19, 4384, 1384, 28, 61, 872])]\n"
     ]
    }
   ],
   "source": [
    "print(text_sequences)"
   ]
  },
  {
   "cell_type": "code",
   "execution_count": 23,
   "metadata": {},
   "outputs": [
    {
     "data": {
      "text/plain": [
       "151780"
      ]
     },
     "execution_count": 23,
     "metadata": {},
     "output_type": "execute_result"
    }
   ],
   "source": [
    "len(sequence_dict)"
   ]
  },
  {
   "cell_type": "code",
   "execution_count": 24,
   "metadata": {},
   "outputs": [],
   "source": [
    "reviews_encoded = [];\n",
    "for i,review in enumerate(review_cleans):\n",
    "    reviews_encoded.append([sequence_dict[x] for x in review]);"
   ]
  },
  {
   "cell_type": "code",
   "execution_count": 26,
   "metadata": {},
   "outputs": [
    {
     "data": {
      "text/plain": [
       "(array([  236.,   237.,   481.,   458.,   558.,   654.,  1111.,  2453.,\n",
       "         4921.,  8618., 13515., 16873., 18617., 18688., 18204., 16732.,\n",
       "        15711., 14756., 13874., 13043., 12195., 11662., 11153., 20430.]),\n",
       " array([ 0,  1,  2,  3,  4,  5,  6,  7,  8,  9, 10, 11, 12, 13, 14, 15, 16,\n",
       "        17, 18, 19, 20, 21, 22, 23, 24]),\n",
       " <a list of 24 Patch objects>)"
      ]
     },
     "execution_count": 26,
     "metadata": {},
     "output_type": "execute_result"
    },
    {
     "data": {
      "image/png": "[encoded data removed]",
      "text/plain": [
       "<Figure size 432x288 with 1 Axes>"
      ]
     },
     "metadata": {
      "needs_background": "light"
     },
     "output_type": "display_data"
    }
   ],
   "source": [
    "lengths = [len(x) for x in reviews_encoded]\n",
    "plt.hist(lengths, bins=range(25))"
   ]
  },
  {
   "cell_type": "code",
   "execution_count": 27,
   "metadata": {},
   "outputs": [
    {
     "name": "stdout",
     "output_type": "stream",
     "text": [
      "[256, 1686, 1915, 166, 394, 13, 645, 232, 4697, 9, 535, 2]\n"
     ]
    }
   ],
   "source": [
    "print(reviews_encoded[135])"
   ]
  },
  {
   "cell_type": "code",
   "execution_count": 28,
   "metadata": {},
   "outputs": [],
   "source": [
    "max_cap =8;\n",
    "X = pad_sequences(reviews_encoded, maxlen=max_cap, truncating='post')"
   ]
  },
  {
   "cell_type": "code",
   "execution_count": 29,
   "metadata": {},
   "outputs": [],
   "source": [
    "Y = np.array([[0,1] if '0' in label else [1,0] for label in labels])"
   ]
  },
  {
   "cell_type": "code",
   "execution_count": 30,
   "metadata": {},
   "outputs": [],
   "source": [
    "np.random.seed(1024);\n",
    "random_posits = np.arange(len(X))\n",
    "np.random.shuffle(random_posits);"
   ]
  },
  {
   "cell_type": "code",
   "execution_count": 31,
   "metadata": {},
   "outputs": [],
   "source": [
    "X = X[random_posits];\n",
    "Y = Y[random_posits];"
   ]
  },
  {
   "cell_type": "code",
   "execution_count": 32,
   "metadata": {},
   "outputs": [],
   "source": [
    "train_cap = int(0.85 * len(X));\n",
    "dev_cap = int(0.93 * len(X));"
   ]
  },
  {
   "cell_type": "code",
   "execution_count": 33,
   "metadata": {},
   "outputs": [],
   "source": [
    "X_train, Y_train = X[:train_cap], Y[:train_cap]\n",
    "X_dev, Y_dev = X[train_cap:dev_cap], Y[train_cap:dev_cap]\n",
    "X_test1, Y_test1 = X[dev_cap:], Y[dev_cap:]"
   ]
  },
  {
   "cell_type": "code",
   "execution_count": 127,
   "metadata": {
    "scrolled": false
   },
   "outputs": [
    {
     "name": "stdout",
     "output_type": "stream",
     "text": [
      "WARNING:tensorflow:From D:\\Anaconda3\\envs\\gputest\\lib\\site-packages\\tensorflow\\python\\ops\\resource_variable_ops.py:435: colocate_with (from tensorflow.python.framework.ops) is deprecated and will be removed in a future version.\n",
      "Instructions for updating:\n",
      "Colocations handled automatically by placer.\n"
     ]
    },
    {
     "name": "stderr",
     "output_type": "stream",
     "text": [
      "WARNING:tensorflow:From D:\\Anaconda3\\envs\\gputest\\lib\\site-packages\\tensorflow\\python\\ops\\resource_variable_ops.py:435: colocate_with (from tensorflow.python.framework.ops) is deprecated and will be removed in a future version.\n",
      "Instructions for updating:\n",
      "Colocations handled automatically by placer.\n",
      "D:\\Anaconda3\\envs\\gputest\\lib\\site-packages\\ipykernel_launcher.py:15: UserWarning: Update your `Dense` call to the Keras 2 API: `Dense(100, activation=\"relu\", kernel_initializer=\"uniform\")`\n",
      "  from ipykernel import kernelapp as app\n",
      "D:\\Anaconda3\\envs\\gputest\\lib\\site-packages\\ipykernel_launcher.py:17: UserWarning: Update your `Dense` call to the Keras 2 API: `Dense(2, activation=\"sigmoid\", kernel_initializer=\"uniform\")`\n"
     ]
    },
    {
     "name": "stdout",
     "output_type": "stream",
     "text": [
      "Model: \"sequential_1\"\n",
      "_________________________________________________________________\n",
      "Layer (type)                 Output Shape              Param #   \n",
      "=================================================================\n",
      "embedding_1 (Embedding)      (None, 8, 8)              1214248   \n",
      "_________________________________________________________________\n",
      "lstm_1 (LSTM)                (None, 8, 150)            95400     \n",
      "_________________________________________________________________\n",
      "lstm_2 (LSTM)                (None, 150)               180600    \n",
      "_________________________________________________________________\n",
      "dense_1 (Dense)              (None, 100)               15100     \n",
      "_________________________________________________________________\n",
      "dense_2 (Dense)              (None, 2)                 202       \n",
      "=================================================================\n",
      "Total params: 1,505,550\n",
      "Trainable params: 1,505,550\n",
      "Non-trainable params: 0\n",
      "_________________________________________________________________\n",
      "None\n",
      "WARNING:tensorflow:From D:\\Anaconda3\\envs\\gputest\\lib\\site-packages\\tensorflow\\python\\ops\\math_ops.py:3066: to_int32 (from tensorflow.python.ops.math_ops) is deprecated and will be removed in a future version.\n",
      "Instructions for updating:\n",
      "Use tf.cast instead.\n"
     ]
    },
    {
     "name": "stderr",
     "output_type": "stream",
     "text": [
      "WARNING:tensorflow:From D:\\Anaconda3\\envs\\gputest\\lib\\site-packages\\tensorflow\\python\\ops\\math_ops.py:3066: to_int32 (from tensorflow.python.ops.math_ops) is deprecated and will be removed in a future version.\n",
      "Instructions for updating:\n",
      "Use tf.cast instead.\n"
     ]
    },
    {
     "name": "stdout",
     "output_type": "stream",
     "text": [
      "Train on 464719 samples, validate on 43738 samples\n",
      "Epoch 1/5\n",
      "464719/464719 [==============================] - 604s 1ms/step - loss: 0.2613 - accuracy: 0.9092 - val_loss: 0.2511 - val_accuracy: 0.9101\n",
      "Epoch 2/5\n",
      "464719/464719 [==============================] - 530s 1ms/step - loss: 0.2405 - accuracy: 0.9129 - val_loss: 0.2474 - val_accuracy: 0.9108\n",
      "Epoch 3/5\n",
      "464719/464719 [==============================] - 529s 1ms/step - loss: 0.2369 - accuracy: 0.9138 - val_loss: 0.2471 - val_accuracy: 0.9110\n",
      "Epoch 4/5\n",
      "464719/464719 [==============================] - 531s 1ms/step - loss: 0.2355 - accuracy: 0.9143 - val_loss: 0.2472 - val_accuracy: 0.9112\n",
      "Epoch 5/5\n",
      "464719/464719 [==============================] - 537s 1ms/step - loss: 0.2346 - accuracy: 0.9145 - val_loss: 0.2467 - val_accuracy: 0.9112\n"
     ]
    },
    {
     "data": {
      "text/plain": [
       "<keras.callbacks.callbacks.History at 0x269adfb2088>"
      ]
     },
     "execution_count": 127,
     "metadata": {},
     "output_type": "execute_result"
    }
   ],
   "source": [
    "from keras.models import Sequential\n",
    "from keras.layers import Dense\n",
    "from keras.backend import eval\n",
    "from keras.optimizers import Adam\n",
    "from keras.layers import LSTM\n",
    "from keras.layers.embeddings import Embedding\n",
    "\n",
    "\n",
    "model1 = Sequential();\n",
    "model1.add(Embedding(len(word_dict)+1, max_cap, input_length=max_cap));\n",
    "#adding a LSTM layer of dim 1--\n",
    "model1.add(LSTM(150, return_sequences=True));\n",
    "model1.add(LSTM(150, return_sequences=False));\n",
    "#adding a dense layer with activation function of relu\n",
    "model1.add(Dense(100, activation='relu', init='uniform'));#best 50,relu\n",
    "#adding the final output activation with activation function of softmax\n",
    "model1.add(Dense(2, activation='sigmoid', init='uniform'));\n",
    "print(model1.summary());\n",
    "optimizer = Adam(lr=0.0001, decay=0.0001);\n",
    "\n",
    "model1.compile(loss='binary_crossentropy', optimizer=optimizer, metrics=['accuracy'])\n",
    "# fit model and run it for 5 epochs\n",
    "model1.fit(X_train, Y_train, batch_size=16, epochs=5, validation_data=(X_dev, Y_dev))"
   ]
  },
  {
   "cell_type": "code",
   "execution_count": 128,
   "metadata": {},
   "outputs": [],
   "source": [
    "filename = \"model.pkl\"\n",
    "pickle.dump(model1,open(filename,'wb'))"
   ]
  },
  {
   "cell_type": "code",
   "execution_count": 129,
   "metadata": {},
   "outputs": [],
   "source": [
    "filename = \"model.sav\"\n",
    "pickle.dump(model1,open(filename,'wb'))"
   ]
  },
  {
   "cell_type": "code",
   "execution_count": 72,
   "metadata": {},
   "outputs": [
    {
     "name": "stdout",
     "output_type": "stream",
     "text": [
      "38272/38272 [==============================] - 16s 420us/step\n",
      "Test accuracy: 91.1776%\n"
     ]
    }
   ],
   "source": [
    "score = model1.evaluate(X_test1,Y_test1)\n",
    "print(\"Test accuracy: %0.4f%%\" % (score[1]*100))"
   ]
  },
  {
   "cell_type": "code",
   "execution_count": 35,
   "metadata": {},
   "outputs": [
    {
     "name": "stderr",
     "output_type": "stream",
     "text": [
      "C:\\Users\\juyee\\Anaconda3\\lib\\site-packages\\tensorflow_core\\python\\framework\\indexed_slices.py:424: UserWarning: Converting sparse IndexedSlices to a dense Tensor of unknown shape. This may consume a large amount of memory.\n",
      "  \"Converting sparse IndexedSlices to a dense Tensor of unknown shape. \"\n"
     ]
    }
   ],
   "source": [
    "import pickle\n",
    "model1 = pickle.load(open('lstm_model.pkl','rb'))"
   ]
  },
  {
   "cell_type": "code",
   "execution_count": 36,
   "metadata": {},
   "outputs": [
    {
     "name": "stdout",
     "output_type": "stream",
     "text": [
      "Model: \"sequential_5\"\n",
      "_________________________________________________________________\n",
      "Layer (type)                 Output Shape              Param #   \n",
      "=================================================================\n",
      "embedding_4 (Embedding)      (None, 8, 8)              1214248   \n",
      "_________________________________________________________________\n",
      "lstm_5 (LSTM)                (None, 300)               370800    \n",
      "_________________________________________________________________\n",
      "dense_7 (Dense)              (None, 100)               30100     \n",
      "_________________________________________________________________\n",
      "dense_8 (Dense)              (None, 2)                 202       \n",
      "=================================================================\n",
      "Total params: 1,615,350\n",
      "Trainable params: 1,615,350\n",
      "Non-trainable params: 0\n",
      "_________________________________________________________________\n"
     ]
    }
   ],
   "source": [
    "model1.summary()"
   ]
  },
  {
   "cell_type": "code",
   "execution_count": 37,
   "metadata": {},
   "outputs": [
    {
     "data": {
      "text/plain": [
       "array([[1, 0],\n",
       "       [1, 0],\n",
       "       [1, 0],\n",
       "       ...,\n",
       "       [1, 0],\n",
       "       [1, 0],\n",
       "       [1, 0]])"
      ]
     },
     "execution_count": 37,
     "metadata": {},
     "output_type": "execute_result"
    }
   ],
   "source": [
    "Y_test1"
   ]
  },
  {
   "cell_type": "code",
   "execution_count": 39,
   "metadata": {},
   "outputs": [
    {
     "data": {
      "text/plain": [
       "array([[1., 0.],\n",
       "       [1., 0.],\n",
       "       [1., 0.],\n",
       "       ...,\n",
       "       [1., 0.],\n",
       "       [1., 0.],\n",
       "       [1., 0.]], dtype=float32)"
      ]
     },
     "execution_count": 39,
     "metadata": {},
     "output_type": "execute_result"
    }
   ],
   "source": [
    "from sklearn.metrics import confusion_matrix, classification_report\n",
    "predlstm = model1.predict(X_test1)\n",
    "#predlstm\n",
    "newpred = predlstm.round()\n",
    "newpred\n",
    "#predlstm1 = np.argmax(newpred,axis=1)\n",
    "#testlstm = np.argmax(Y_test1,axis=1)\n",
    "#print(confusion_matrix(Y_test1,predlstm))\n",
    "#print('\\n')\n",
    "#print(classification_report(testlstm, predlstm1))"
   ]
  },
  {
   "cell_type": "code",
   "execution_count": 92,
   "metadata": {},
   "outputs": [
    {
     "name": "stdout",
     "output_type": "stream",
     "text": [
      "['long time coffee hater might good pick review kind thing second french coffee press gotten vine first glass broke brewing process maybe used boiling water instead hot would thought something meant heat like would expand without breaking strangely double walled glass tea cup silicon brew cap also broke adding boiling water another vine product good news glass bad news failed one important parts part press specifically seal return coffee hating tried coffee kid found bitter without substance even confused found people drinking decaf benefit saw coffee caffeine become drinker part experimentation part education guess young diners donut shops dominated midwest morning coffee big thing time one knew starbucks coffee hut drank coffee black milk cream maybe bit sugar exotic creamers flavorings today limited exposure coffee brew pot put ounces milk six teaspoons sugar cup ounces coffee mostly get caffeine used stay study though taste tolerable make crave late 70s early 1980s come along square cans international coffees hit market mocha vanilla coffee started bit flavor revolution instants liked better trouble brewing taste mellow realized like coffee bitter taste worked houston time although quite new york fairly cosmopolitan city especially compared home town indiana coffee houses downtown quiet clubs favored jazz chess activities also really good coffee italian contraption could make espresso cappuccino lattes know educated maker tried like espresso strong non coffee lover cappuccino latte pretty much taste liked bitters explained professional staff one coffee houses long forgotten name bitterness problem coffee harshly boiled grounds ground wrong lot canned coffees best mostly non practical way make great coffee right equipment receive shipments arabica beans usually best although much expensive alternative grind daily radial grinder needed keep remainder refrigerated week shop good connections might work like think modern starbucks gets beans fresh picked every week know like degrades badly realm fantastic since people mostly know missing grown bad coffee anyway little better seems really nice else would fork dollars paid cents late free refills boot back product french press guess theory instead pouring water grounds let brew water press coffee though filter sort reverse instructions say use coarse ground definitely true make problem worse might let everything settle kept table picked used plunger got grounds first cut nasty drink examined plunger seal seal fine mesh outer spring push tension unfortunately mesh bent places could see gaps side walls pot gaps big enough let grounds producer failed critical part still wanted see taste poured coffee fine mesh strainer added creamers sugar good coffee much better bun machine work makes even fresh bad double filter either need better sealing mechanism stricter quality control mesh least worked break like glass one bottom line recommend decent coffee always work advertised maybe reviews zon reveal model creates better seal paid money would sent back still going use mini brewer paid two dollars yard sale works coffee bad think long making french presses perfected']\n"
     ]
    }
   ],
   "source": [
    "text = \"As a long time coffee hater, I might be a good pick to review this kind of thing.  This is the second French coffee press I've gotten from the Vine.  The first was glass and it broke in the brewing process, maybe because I used boiling water instead of just hot, but I would have thought something that was meant to heat up like that would expand without breaking.  Strangely, a double walled glass tea cup with silicon brew cap also broke when adding boiling water, it was another Vine product. The good news here this is not glass, the bad news they failed at one of the most important parts.  That part is the press itself, specifically the seal!Before I return to that more about coffee hating.  I tried coffee as a kid and found it bitter and without substance.  I was even more confused when I found people drinking decaf, as the only benefit I saw from coffee was the caffeine.  How did I become a drinker, part experimentation and part education I guess.  When I was young, diners and donut shops dominated the Midwest, morning coffee was a big thing, but at that time no one knew from Starbucks or the Coffee Hut.  You drank coffee black, with milk or cream and maybe a bit of sugar, there were not the exotic creamers and flavorings of today.  My limited exposure to coffee was to brew a pot and put 3 ounces of milk six teaspoons of sugar in a cup and 5 ounces of coffee, mostly to get the caffeine.  I used it to stay up and study and though the taste was tolerable, it didn't make me crave it.The late 70s and early 1980s come along and those square cans of International Coffees hit the market and Mocha, and Vanilla coffee started a bit of a flavor revolution.  They were instants, but I liked them better and didn't have to go to the trouble of brewing.  The taste was more mellow and I realized what I didn't like about coffee was the bitter taste.  I worked in Houston at the time and although not quite New York, it was a fairly cosmopolitan city, especially compared to my home town in Indiana.  They had some coffee houses downtown, in quiet clubs that favored Jazz, chess, and activities. They also had really good coffee, some of them had an Italian contraption that could make Espresso, Cappuccino, and Lattes.  Did not know what those were, but I was educated by the maker and tried them.  Did not like Espresso, too strong for a non-coffee lover.  Cappuccino and Latte's are pretty much the same to me in taste, and I liked both, but where did the bitters go?It was explained to me by the professional staff of one of these coffee houses, (I've long forgotten the name), that bitterness is only a problem when the coffee is harshly boiled out of the grounds, and the ground is wrong, as it is for a lot of canned coffees.  The best, but mostly non-practical way to make great coffee if you have the right equipment, is to receive shipments of Arabica beans (usually the best although not that much more expensive than the alternative), then grind them daily with a radial grinder as needed, and keep the remainder refrigerated for not more than a week.  If you're a shop with good connections that might work, but few are.  I'd like to think the modern Starbucks gets beans fresh picked every week, but we all know they don't, and it's not like it degrades badly, it's just not in the realm of fantastic.  Since people mostly don't know what they are missing, having grown up with bad coffee anyway, a little better seems really nice.  Why else would you fork over 4 dollars for what you paid 10 cents for in the Late 70's and with free refills to boot!Back to the product here, the French press.  I guess the theory is instead of pouring water over the grounds, we let them brew in the water and then press the coffee though the filter sort of in reverse.  The instructions say use a coarse ground, and that's definitely true because you make the problem I had worse.  I might have been OK if I'd let everything settle and kept this on the table, but I picked it up before I used the plunger.  I got grounds in my first cut which are nasty to drink.  I examined the plunger and the seal.  The seal has a fine mesh, and an outer spring to push with some tension.  Unfortunately the mesh was bent in a few places and I could see gaps on the side walls of the pot.  The gaps were big enough to let grounds through.  The producer of this failed at the most critical part.  Still, I wanted to see the taste so I poured the coffee through a fine mesh strainer and added creamers and sugar.  It was very good coffee, much better than the BUN machine at work makes even when it's fresh, it's too bad I have to double filter it. They either need a better sealing mechanism or stricter quality control on the mesh.  At least it worked and didn't break like the glass one.Bottom Line a no recommend, decent coffee, but does not always work as advertised.  Maybe the reviews on the Zon will reveal a model that creates a better seal, but if I'd paid money for this, I would have sent it back.  I'm still going to use the mini brewer that I paid two dollars at a yard sale for.  It works and the coffee is not bad.  You'd think as long as they've been making French presses, they'd have them perfected by now!\"\n",
    "review_clean = clean_document(text)\n",
    "sentence = [' '.join(review_clean)]\n",
    "print(sentence)"
   ]
  },
  {
   "cell_type": "code",
   "execution_count": 80,
   "metadata": {},
   "outputs": [],
   "source": [
    "tokenizer.fit_on_texts(sentence)\n",
    "text_sequence = np.array(tokenizer.texts_to_sequences(sentence))"
   ]
  },
  {
   "cell_type": "code",
   "execution_count": 81,
   "metadata": {},
   "outputs": [
    {
     "name": "stdout",
     "output_type": "stream",
     "text": [
      "[[  241   155   195  4062   779  1579   777   534  1296    34    95  3584\n",
      "      7   555   598  2755    12   961 16693  4296  2184   264    65   465\n",
      "    492   961    51  8045   190  4688     3 10839  6159   124   138 19134\n",
      "   9034   138   356  1597  3728   143  6176  4062  6287     5    62   162\n",
      "   6202   607   493  2948    53 10388   961]]\n"
     ]
    }
   ],
   "source": [
    "print(text_sequence)"
   ]
  },
  {
   "cell_type": "code",
   "execution_count": 93,
   "metadata": {},
   "outputs": [],
   "source": [
    "review_encoded = [];\n",
    "\n",
    "review_encoded.append([sequence_dict[x] for x in review_clean]);"
   ]
  },
  {
   "cell_type": "code",
   "execution_count": 94,
   "metadata": {},
   "outputs": [
    {
     "data": {
      "text/plain": [
       "[[58,\n",
       "  10,\n",
       "  14,\n",
       "  23455,\n",
       "  196,\n",
       "  7,\n",
       "  576,\n",
       "  187,\n",
       "  339,\n",
       "  56,\n",
       "  245,\n",
       "  543,\n",
       "  14,\n",
       "  199,\n",
       "  964,\n",
       "  2847,\n",
       "  33,\n",
       "  123,\n",
       "  486,\n",
       "  830,\n",
       "  657,\n",
       "  292,\n",
       "  15,\n",
       "  831,\n",
       "  18,\n",
       "  255,\n",
       "  57,\n",
       "  6,\n",
       "  152,\n",
       "  93,\n",
       "  1429,\n",
       "  115,\n",
       "  3,\n",
       "  6,\n",
       "  3025,\n",
       "  65,\n",
       "  1288,\n",
       "  8851,\n",
       "  667,\n",
       "  3263,\n",
       "  123,\n",
       "  142,\n",
       "  52,\n",
       "  2261,\n",
       "  550,\n",
       "  1082,\n",
       "  13,\n",
       "  486,\n",
       "  1106,\n",
       "  831,\n",
       "  18,\n",
       "  70,\n",
       "  2847,\n",
       "  24,\n",
       "  7,\n",
       "  3173,\n",
       "  123,\n",
       "  260,\n",
       "  3173,\n",
       "  1643,\n",
       "  1,\n",
       "  749,\n",
       "  408,\n",
       "  218,\n",
       "  199,\n",
       "  2004,\n",
       "  475,\n",
       "  516,\n",
       "  14,\n",
       "  13034,\n",
       "  160,\n",
       "  14,\n",
       "  2053,\n",
       "  109,\n",
       "  2673,\n",
       "  65,\n",
       "  4986,\n",
       "  25,\n",
       "  4019,\n",
       "  109,\n",
       "  189,\n",
       "  991,\n",
       "  4468,\n",
       "  2188,\n",
       "  536,\n",
       "  14,\n",
       "  5503,\n",
       "  924,\n",
       "  2307,\n",
       "  218,\n",
       "  6328,\n",
       "  218,\n",
       "  12236,\n",
       "  488,\n",
       "  2393,\n",
       "  15143,\n",
       "  5326,\n",
       "  4883,\n",
       "  22589,\n",
       "  11351,\n",
       "  464,\n",
       "  14,\n",
       "  83,\n",
       "  56,\n",
       "  10,\n",
       "  1,\n",
       "  957,\n",
       "  2156,\n",
       "  14,\n",
       "  21654,\n",
       "  5142,\n",
       "  14,\n",
       "  306,\n",
       "  412,\n",
       "  399,\n",
       "  292,\n",
       "  60,\n",
       "  748,\n",
       "  8173,\n",
       "  12793,\n",
       "  8231,\n",
       "  750,\n",
       "  1130,\n",
       "  6054,\n",
       "  14,\n",
       "  550,\n",
       "  103,\n",
       "  30,\n",
       "  1119,\n",
       "  412,\n",
       "  923,\n",
       "  4983,\n",
       "  748,\n",
       "  52,\n",
       "  1119,\n",
       "  14,\n",
       "  854,\n",
       "  8,\n",
       "  5503,\n",
       "  15,\n",
       "  416,\n",
       "  4311,\n",
       "  111,\n",
       "  404,\n",
       "  6358,\n",
       "  19,\n",
       "  10756,\n",
       "  2381,\n",
       "  8632,\n",
       "  1812,\n",
       "  11391,\n",
       "  139,\n",
       "  567,\n",
       "  1005,\n",
       "  1122,\n",
       "  4011,\n",
       "  3205,\n",
       "  1028,\n",
       "  1068,\n",
       "  5176,\n",
       "  2619,\n",
       "  14,\n",
       "  389,\n",
       "  60,\n",
       "  812,\n",
       "  7657,\n",
       "  40638,\n",
       "  523,\n",
       "  36,\n",
       "  785,\n",
       "  830,\n",
       "  404,\n",
       "  11569,\n",
       "  1278,\n",
       "  3,\n",
       "  14,\n",
       "  2673,\n",
       "  404,\n",
       "  220,\n",
       "  11516,\n",
       "  10,\n",
       "  312,\n",
       "  132,\n",
       "  69,\n",
       "  6084,\n",
       "  491,\n",
       "  34867,\n",
       "  3474,\n",
       "  269,\n",
       "  649,\n",
       "  174,\n",
       "  3480,\n",
       "  17746,\n",
       "  14,\n",
       "  4552,\n",
       "  16581,\n",
       "  545,\n",
       "  15260,\n",
       "  12803,\n",
       "  11839,\n",
       "  17559,\n",
       "  7418,\n",
       "  13,\n",
       "  11,\n",
       "  7,\n",
       "  14,\n",
       "  2831,\n",
       "  4597,\n",
       "  51,\n",
       "  19,\n",
       "  479,\n",
       "  2549,\n",
       "  3458,\n",
       "  95,\n",
       "  12369,\n",
       "  188,\n",
       "  160,\n",
       "  3,\n",
       "  479,\n",
       "  304,\n",
       "  198,\n",
       "  14,\n",
       "  3238,\n",
       "  2549,\n",
       "  2299,\n",
       "  94,\n",
       "  12,\n",
       "  404,\n",
       "  523,\n",
       "  22847,\n",
       "  4509,\n",
       "  1092,\n",
       "  8187,\n",
       "  1,\n",
       "  14,\n",
       "  4552,\n",
       "  58,\n",
       "  4649,\n",
       "  889,\n",
       "  5410,\n",
       "  102,\n",
       "  14,\n",
       "  19341,\n",
       "  1723,\n",
       "  747,\n",
       "  596,\n",
       "  509,\n",
       "  61,\n",
       "  2767,\n",
       "  3205,\n",
       "  86,\n",
       "  854,\n",
       "  198,\n",
       "  1495,\n",
       "  47,\n",
       "  19,\n",
       "  4,\n",
       "  14,\n",
       "  63,\n",
       "  1929,\n",
       "  1963,\n",
       "  11786,\n",
       "  12751,\n",
       "  589,\n",
       "  418,\n",
       "  86,\n",
       "  312,\n",
       "  12,\n",
       "  223,\n",
       "  1593,\n",
       "  429,\n",
       "  561,\n",
       "  19977,\n",
       "  362,\n",
       "  150,\n",
       "  54,\n",
       "  6815,\n",
       "  5346,\n",
       "  324,\n",
       "  1373,\n",
       "  7,\n",
       "  6863,\n",
       "  196,\n",
       "  35,\n",
       "  3,\n",
       "  62,\n",
       "  1437,\n",
       "  2156,\n",
       "  227,\n",
       "  589,\n",
       "  374,\n",
       "  1057,\n",
       "  78,\n",
       "  324,\n",
       "  95,\n",
       "  3,\n",
       "  13718,\n",
       "  2562,\n",
       "  12802,\n",
       "  732,\n",
       "  67,\n",
       "  189,\n",
       "  854,\n",
       "  95,\n",
       "  1427,\n",
       "  3476,\n",
       "  260,\n",
       "  14,\n",
       "  604,\n",
       "  16,\n",
       "  36,\n",
       "  127,\n",
       "  11,\n",
       "  21,\n",
       "  375,\n",
       "  6,\n",
       "  2017,\n",
       "  1297,\n",
       "  724,\n",
       "  3151,\n",
       "  2381,\n",
       "  331,\n",
       "  3686,\n",
       "  3780,\n",
       "  49,\n",
       "  24,\n",
       "  543,\n",
       "  199,\n",
       "  488,\n",
       "  4337,\n",
       "  255,\n",
       "  894,\n",
       "  18,\n",
       "  747,\n",
       "  243,\n",
       "  550,\n",
       "  18,\n",
       "  199,\n",
       "  14,\n",
       "  111,\n",
       "  121,\n",
       "  898,\n",
       "  3271,\n",
       "  316,\n",
       "  112,\n",
       "  2,\n",
       "  1860,\n",
       "  596,\n",
       "  207,\n",
       "  707,\n",
       "  19,\n",
       "  102,\n",
       "  1444,\n",
       "  196,\n",
       "  243,\n",
       "  173,\n",
       "  4170,\n",
       "  654,\n",
       "  314,\n",
       "  1057,\n",
       "  15,\n",
       "  1451,\n",
       "  50,\n",
       "  747,\n",
       "  33,\n",
       "  203,\n",
       "  2324,\n",
       "  367,\n",
       "  7976,\n",
       "  1451,\n",
       "  475,\n",
       "  475,\n",
       "  108,\n",
       "  1011,\n",
       "  1774,\n",
       "  982,\n",
       "  482,\n",
       "  3372,\n",
       "  832,\n",
       "  1011,\n",
       "  1953,\n",
       "  1243,\n",
       "  51,\n",
       "  82,\n",
       "  4688,\n",
       "  113,\n",
       "  1504,\n",
       "  103,\n",
       "  4688,\n",
       "  83,\n",
       "  44,\n",
       "  243,\n",
       "  747,\n",
       "  16308,\n",
       "  1643,\n",
       "  3637,\n",
       "  218,\n",
       "  34,\n",
       "  161,\n",
       "  82,\n",
       "  404,\n",
       "  1854,\n",
       "  14,\n",
       "  108,\n",
       "  1011,\n",
       "  981,\n",
       "  662,\n",
       "  12793,\n",
       "  748,\n",
       "  7,\n",
       "  14,\n",
       "  12,\n",
       "  36,\n",
       "  6184,\n",
       "  66,\n",
       "  35,\n",
       "  55,\n",
       "  25,\n",
       "  374,\n",
       "  260,\n",
       "  667,\n",
       "  121,\n",
       "  276,\n",
       "  39,\n",
       "  36,\n",
       "  2130,\n",
       "  1151,\n",
       "  28510,\n",
       "  40,\n",
       "  551,\n",
       "  1011,\n",
       "  279,\n",
       "  220,\n",
       "  445,\n",
       "  3,\n",
       "  123,\n",
       "  1,\n",
       "  92,\n",
       "  371,\n",
       "  53,\n",
       "  655,\n",
       "  14,\n",
       "  128,\n",
       "  35,\n",
       "  895,\n",
       "  292,\n",
       "  126,\n",
       "  25369,\n",
       "  8472,\n",
       "  231,\n",
       "  2328,\n",
       "  36,\n",
       "  475,\n",
       "  724,\n",
       "  182,\n",
       "  6,\n",
       "  813,\n",
       "  49,\n",
       "  34,\n",
       "  118,\n",
       "  2,\n",
       "  960,\n",
       "  1703,\n",
       "  724,\n",
       "  29,\n",
       "  1297,\n",
       "  3718,\n",
       "  1165,\n",
       "  26,\n",
       "  14,\n",
       "  260,\n",
       "  62,\n",
       "  58,\n",
       "  124,\n",
       "  543,\n",
       "  2045,\n",
       "  9234]]"
      ]
     },
     "execution_count": 94,
     "metadata": {},
     "output_type": "execute_result"
    }
   ],
   "source": [
    "review_encoded"
   ]
  },
  {
   "cell_type": "code",
   "execution_count": 95,
   "metadata": {},
   "outputs": [],
   "source": [
    "max_cap =8;\n",
    "test_data = pad_sequences(review_encoded, maxlen=max_cap, truncating='post')"
   ]
  },
  {
   "cell_type": "code",
   "execution_count": 96,
   "metadata": {},
   "outputs": [
    {
     "data": {
      "text/plain": [
       "array([[   58,    10,    14, 23455,   196,     7,   576,   187]])"
      ]
     },
     "execution_count": 96,
     "metadata": {},
     "output_type": "execute_result"
    }
   ],
   "source": [
    "test_data"
   ]
  },
  {
   "cell_type": "code",
   "execution_count": 97,
   "metadata": {},
   "outputs": [],
   "source": [
    "np.random.seed(1024);\n",
    "random_posit = np.arange(len(test_data))\n",
    "np.random.shuffle(random_posit);"
   ]
  },
  {
   "cell_type": "code",
   "execution_count": 98,
   "metadata": {},
   "outputs": [],
   "source": [
    "test_data = test_data[random_posit];"
   ]
  },
  {
   "cell_type": "code",
   "execution_count": 99,
   "metadata": {},
   "outputs": [
    {
     "name": "stdout",
     "output_type": "stream",
     "text": [
      "[[0.77683055 0.22285935]]\n"
     ]
    }
   ],
   "source": [
    "test_result = model1.predict(test_data)\n",
    "print(test_result)"
   ]
  },
  {
   "cell_type": "code",
   "execution_count": 89,
   "metadata": {},
   "outputs": [],
   "source": [
    "test_result = test_result.round()\n",
    "test_result1 = np.argmax(test_result,axis=1)"
   ]
  },
  {
   "cell_type": "code",
   "execution_count": 90,
   "metadata": {},
   "outputs": [
    {
     "name": "stdout",
     "output_type": "stream",
     "text": [
      "[[1. 0.]]\n"
     ]
    }
   ],
   "source": [
    "print(test_result)"
   ]
  },
  {
   "cell_type": "code",
   "execution_count": null,
   "metadata": {},
   "outputs": [],
   "source": []
  }
 ],
 "metadata": {
  "kernelspec": {
   "display_name": "Python 3",
   "language": "python",
   "name": "python3"
  },
  "language_info": {
   "codemirror_mode": {
    "name": "ipython",
    "version": 3
   },
   "file_extension": ".py",
   "mimetype": "text/x-python",
   "name": "python",
   "nbconvert_exporter": "python",
   "pygments_lexer": "ipython3",
   "version": "3.7.4"
  }
 },
 "nbformat": 4,
 "nbformat_minor": 2
}
